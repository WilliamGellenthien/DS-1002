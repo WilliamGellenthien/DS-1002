{
  "nbformat": 4,
  "nbformat_minor": 0,
  "metadata": {
    "colab": {
      "provenance": [],
      "include_colab_link": true
    },
    "kernelspec": {
      "name": "python3",
      "display_name": "Python 3"
    },
    "language_info": {
      "name": "python"
    }
  },
  "cells": [
    {
      "cell_type": "markdown",
      "metadata": {
        "id": "view-in-github",
        "colab_type": "text"
      },
      "source": [
        "<a href=\"https://colab.research.google.com/github/WilliamGellenthien/DS-1002/blob/main/REVISED_Gellenthien_11_comprehension_and_recursion.ipynb\" target=\"_parent\"><img src=\"https://colab.research.google.com/assets/colab-badge.svg\" alt=\"Open In Colab\"/></a>"
      ]
    },
    {
      "cell_type": "markdown",
      "source": [
        "## Assignment 11\n",
        "Due Monday 15 April at noon"
      ],
      "metadata": {
        "id": "y6mGkyWrqph3"
      }
    },
    {
      "cell_type": "markdown",
      "source": [
        "### List comprehension\n",
        "\n",
        "Many of you resisted my recommendation to use list comprehensions in the previous assignment, and so my hand is forced.  You made me require it.\n",
        "\n",
        "\n",
        "Problem 1.  For each function you write below, you may assume the list being sent to the function will contain the appropriate data type.\n",
        "\n",
        "Use list comprehensions to create a function that will take a list `l` and return . . ."
      ],
      "metadata": {
        "id": "eBJulsWBngse"
      }
    },
    {
      "cell_type": "markdown",
      "source": [
        "(a) . . . a list containing the absolute value of each element of `l`"
      ],
      "metadata": {
        "id": "1h4hKDEqo5T_"
      }
    },
    {
      "cell_type": "code",
      "source": [
        "def absolute_values(l):\n",
        "    return [abs(x) for x in l]\n",
        "#This takes a list and then gets the abslute value of all the values in the first list and returns a second list with the absolute values"
      ],
      "metadata": {
        "id": "LNltsHhtngLS"
      },
      "execution_count": 1,
      "outputs": []
    },
    {
      "cell_type": "code",
      "source": [
        "#Example\n",
        "l = [1,-2,3,-4,5]\n",
        "absolute_values(l)"
      ],
      "metadata": {
        "id": "KMa7r8we8p0h",
        "outputId": "ca230360-2e08-45d1-c0a3-c24b6fb4f7a2",
        "colab": {
          "base_uri": "https://localhost:8080/"
        }
      },
      "execution_count": 3,
      "outputs": [
        {
          "output_type": "execute_result",
          "data": {
            "text/plain": [
              "[1, 2, 3, 4, 5]"
            ]
          },
          "metadata": {},
          "execution_count": 3
        }
      ]
    },
    {
      "cell_type": "markdown",
      "source": [
        "(b) . . . a list containing `True` for each even number in `l` and `False` for each odd number in `l`"
      ],
      "metadata": {
        "id": "mqIbzaTvpLCV"
      }
    },
    {
      "cell_type": "code",
      "source": [
        "def even_odd_flags(l):\n",
        "    return [True if x % 2 == 0 else False for x in l]\n",
        "#This function looks over every value in the list and then divides it by two and then sees if it has a remainder\n",
        "#if the remainder is 0 that means it is even.  It returns true for even numbers and false for odd numbers"
      ],
      "metadata": {
        "id": "0OTpQFX9pK0t"
      },
      "execution_count": 5,
      "outputs": []
    },
    {
      "cell_type": "code",
      "source": [
        "#Example\n",
        "l = [1,2,3,4,5,6,7,8,9]\n",
        "even_odd_flags(l)"
      ],
      "metadata": {
        "id": "N9F-MuJd8_XA",
        "outputId": "e8191e8c-9432-478d-f683-5dd6020176ab",
        "colab": {
          "base_uri": "https://localhost:8080/"
        }
      },
      "execution_count": 6,
      "outputs": [
        {
          "output_type": "execute_result",
          "data": {
            "text/plain": [
              "[False, True, False, True, False, True, False, True, False]"
            ]
          },
          "metadata": {},
          "execution_count": 6
        }
      ]
    },
    {
      "cell_type": "markdown",
      "source": [
        "(c) . . . a list containing only the numbers in `l` that are divisible by 3"
      ],
      "metadata": {
        "id": "9yqVg2hApUY9"
      }
    },
    {
      "cell_type": "code",
      "source": [
        "def divisible_by_3(l):\n",
        "    return [x for x in l if x % 3 == 0]\n",
        "#This function loks over all the vakues in the first list and then tests if they are divisible by 3.\n",
        "#If it is, then it inculdes it in the returning list"
      ],
      "metadata": {
        "id": "2mP_1aYZpUF4"
      },
      "execution_count": 7,
      "outputs": []
    },
    {
      "cell_type": "code",
      "source": [
        "#Example\n",
        "l = [1,2,3,4,5,6,7,8,9,12,15,18]\n",
        "divisible_by_3(l)"
      ],
      "metadata": {
        "id": "wKaD1YeF9NOn",
        "outputId": "25ae3e9e-5ba9-4bdd-ffc2-fac2dbf59d74",
        "colab": {
          "base_uri": "https://localhost:8080/"
        }
      },
      "execution_count": 9,
      "outputs": [
        {
          "output_type": "execute_result",
          "data": {
            "text/plain": [
              "[3, 6, 9, 12, 15, 18]"
            ]
          },
          "metadata": {},
          "execution_count": 9
        }
      ]
    },
    {
      "cell_type": "markdown",
      "source": [
        "(d) . . . a list containing only the words in `l` whose first and last letters are the same"
      ],
      "metadata": {
        "id": "2yClgYZupef1"
      }
    },
    {
      "cell_type": "code",
      "source": [
        "def same_first_last(l):\n",
        "    return [word for word in l if len(word) > 1 and word[0] == word[-1]]\n",
        "#This checks to make sure each word in list l is greater than 1 and then checks to see if the first letter is the same as the last letter"
      ],
      "metadata": {
        "id": "-l7XnemMpeCi"
      },
      "execution_count": 10,
      "outputs": []
    },
    {
      "cell_type": "code",
      "source": [
        "#Example\n",
        "l = ['apple', 'banana', 'racecar', 'excite']\n",
        "same_first_last(l)"
      ],
      "metadata": {
        "id": "ca3k1U5h9i1W",
        "outputId": "7c986a4a-9158-41e4-8242-7043d303ac2f",
        "colab": {
          "base_uri": "https://localhost:8080/"
        }
      },
      "execution_count": 12,
      "outputs": [
        {
          "output_type": "execute_result",
          "data": {
            "text/plain": [
              "['racecar', 'excite']"
            ]
          },
          "metadata": {},
          "execution_count": 12
        }
      ]
    },
    {
      "cell_type": "markdown",
      "source": [
        "(e) . . . a list containing the first letter of each word in `l` that ends with a vowel"
      ],
      "metadata": {
        "id": "1mqMysFKppZS"
      }
    },
    {
      "cell_type": "code",
      "source": [
        "def first_letter_ends_with_vowel(l):\n",
        "    vowels = {'a', 'e', 'i', 'o', 'u'}\n",
        "    return [word[0] for word in l if word[-1].lower() in vowels]\n",
        "#This first creates a set called vowels. Then it looks over each word to see if the word has a vowel at the end\n",
        "#If it does, then it adds the first letter of that word to the list that it returns"
      ],
      "metadata": {
        "id": "1Gi3andbppDc"
      },
      "execution_count": 13,
      "outputs": []
    },
    {
      "cell_type": "code",
      "source": [
        "#Example\n",
        "l = ['vowel', 'nice', 'inspire', 'chance', 'excite']\n",
        "first_letter_ends_with_vowel(l)"
      ],
      "metadata": {
        "id": "cY4L_z34-NoD",
        "outputId": "65537488-7f60-4118-e1a4-4e6d5aacb117",
        "colab": {
          "base_uri": "https://localhost:8080/"
        }
      },
      "execution_count": 15,
      "outputs": [
        {
          "output_type": "execute_result",
          "data": {
            "text/plain": [
              "['n', 'i', 'c', 'e']"
            ]
          },
          "metadata": {},
          "execution_count": 15
        }
      ]
    },
    {
      "cell_type": "markdown",
      "source": [
        "### Multiplication as a recursive process\n",
        "Problem 2.  Write a recursive function that computes the product of two positive integers `a` and `b` by adding `a` to itself `b` times.\n",
        "\n",
        "Hints:  \n",
        "1. if `b=1` then the product is `a`.\n",
        "2. if `b>1` then the product is what you get by adding `a` to `a * (b-1)`.\n",
        "\n",
        "Note:  the purpose of this exercise is to practice writing recursive functions.  Of course you can trivially ask for `a*b` and get the correct answer but that is worth no points.  Your function should not use any multiplications.\n"
      ],
      "metadata": {
        "id": "iV4ysawxjsiE"
      }
    },
    {
      "cell_type": "code",
      "execution_count": 16,
      "metadata": {
        "id": "wc9Y1d7ejrvH"
      },
      "outputs": [],
      "source": [
        "def multiply(a, b):\n",
        "  #This is so if b is one then it just returns a.  Taht is how multiplication works\n",
        "    if b == 1:\n",
        "        return a\n",
        "#This is for all the other cases.  It just keeps adding a\n",
        "    else:\n",
        "        return a + multiply(a, b - 1)"
      ]
    },
    {
      "cell_type": "code",
      "source": [
        "#Example\n",
        "multiply(21, 4)"
      ],
      "metadata": {
        "id": "VAKPffmw-_ar",
        "outputId": "4d83f20a-3f69-4d6e-e21d-4c6fa18c0603",
        "colab": {
          "base_uri": "https://localhost:8080/"
        }
      },
      "execution_count": 17,
      "outputs": [
        {
          "output_type": "execute_result",
          "data": {
            "text/plain": [
              "84"
            ]
          },
          "metadata": {},
          "execution_count": 17
        }
      ]
    },
    {
      "cell_type": "markdown",
      "source": [
        "### Division as a recursive process\n",
        "\n",
        "Problem 3:  Write a recursive function that takes two positive integers `a` and `b` and returns the quotient `q` and remainder `r` obtained when `a` is divided by `b`.\n",
        "\n",
        "Hints:  \n",
        "1. If `a<b` then what should `q` and `r` be?\n",
        "\n",
        "2. If `a>b` then think about how `q` and `r` are related to the values you would get from dividing `a-b` by `b`."
      ],
      "metadata": {
        "id": "A5xI1LxDkxn0"
      }
    },
    {
      "cell_type": "code",
      "source": [
        "def divide(a, b):\n",
        "#If a is less than b, then the quotient is 0 and the remainder is just a.\n",
        "    if a < b:\n",
        "        return 0, a\n",
        "#This part is the recursive part where you do subtraction until you get to the correct spot and the have the remainder\n",
        "    else:\n",
        "        q, r = divide(a - b, b)\n",
        "        return q + 1, r"
      ],
      "metadata": {
        "id": "_3aRmkgJkxUW"
      },
      "execution_count": 18,
      "outputs": []
    },
    {
      "cell_type": "code",
      "source": [
        "#Example\n",
        "divide(72,5)"
      ],
      "metadata": {
        "id": "FFGJCbqV_L3n",
        "outputId": "d6359fc0-41db-4896-abe0-58176219bd6d",
        "colab": {
          "base_uri": "https://localhost:8080/"
        }
      },
      "execution_count": 19,
      "outputs": [
        {
          "output_type": "execute_result",
          "data": {
            "text/plain": [
              "(14, 2)"
            ]
          },
          "metadata": {},
          "execution_count": 19
        }
      ]
    },
    {
      "cell_type": "markdown",
      "source": [
        "### The dot product of two vectors\n",
        "\n",
        "Problem 4.  Write a recursive function `dot()` that takes two lists of numbers, of equal length, and returns the sum of the products of the elements of the same index from each list. For example, if `V=[1,2,3]` and `W=[4,5,6]` then the function should return the value $(1 \\cdot 4) + (2\\cdot 5) + (3\\cdot 6)$, which equals 32.  In physics and linear algebra, this is called the \"dot product\" of the vectors `V` and `W`.\n",
        "\n",
        "Other examples:\n",
        "```\n",
        "dot([3],[4])\n",
        "12\n",
        "\n",
        "dot([1,1,0],[2,7,17])\n",
        "9\n",
        "```\n",
        "Hints:\n",
        "1. How is `dot(V,W)` related to `dot(V[1:],W[1:])`?\n",
        "2. What should happen if the lists are empty?"
      ],
      "metadata": {
        "id": "OkBK7gvglJ3u"
      }
    },
    {
      "cell_type": "code",
      "source": [
        "def dot(V, W):\n",
        "#If the lists are empty or one of them is then it will return 0 because there is nothing to multiply\n",
        "    if not V or not W:\n",
        "        return 0\n",
        "#This is the recursive part where it multiplies the first elements and then adds it to the rest.  multiplies all the other elemenst to their corresponding parts as well\n",
        "    else:\n",
        "        return V[0] * W[0] + dot(V[1:], W[1:])\n"
      ],
      "metadata": {
        "id": "LZXs6lkslJqm"
      },
      "execution_count": 20,
      "outputs": []
    },
    {
      "cell_type": "code",
      "source": [
        "#Example\n",
        "dot([3], [4])"
      ],
      "metadata": {
        "id": "vRTab8pO_XPv",
        "outputId": "e6627830-71ef-4f85-edca-e92908f2f870",
        "colab": {
          "base_uri": "https://localhost:8080/"
        }
      },
      "execution_count": 21,
      "outputs": [
        {
          "output_type": "execute_result",
          "data": {
            "text/plain": [
              "12"
            ]
          },
          "metadata": {},
          "execution_count": 21
        }
      ]
    }
  ]
}