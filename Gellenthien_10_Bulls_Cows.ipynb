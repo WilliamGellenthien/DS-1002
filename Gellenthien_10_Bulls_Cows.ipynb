{
  "cells": [
    {
      "cell_type": "markdown",
      "metadata": {
        "id": "view-in-github",
        "colab_type": "text"
      },
      "source": [
        "<a href=\"https://colab.research.google.com/github/WilliamGellenthien/DS-1002/blob/main/Gellenthien_10_Bulls_Cows.ipynb\" target=\"_parent\"><img src=\"https://colab.research.google.com/assets/colab-badge.svg\" alt=\"Open In Colab\"/></a>"
      ]
    },
    {
      "cell_type": "markdown",
      "metadata": {
        "id": "lSwr8T3SNrkj"
      },
      "source": [
        "## Bulls and Cows:\n",
        "### Another guessing game.\n",
        "### Assignment due Wednesday 10 April at 10 am\n",
        "\n",
        "General instructions:\n",
        "\n",
        "1. You may work in teams of up to three people.  As usual, if you do this, make sure all names are clearly displayed at the top of your submission, and all team members should submit the same GitHub URL.\n",
        "\n",
        "1. Use only basic Python code.  Do not use `numpy` arrays or functions.\n",
        "\n",
        "2. Practice utilizing the coding concepts we have studied.  \n",
        "\n",
        "3. Write docstrings for all your functions.\n",
        "\n"
      ]
    },
    {
      "cell_type": "markdown",
      "metadata": {
        "id": "qrWRyeI2NwHA"
      },
      "source": [
        "### Goal:  program this game\n",
        "In this assignment you will program a version of an old game called Bulls and Cows.  It is somewhat similar to Wordle, but with numbers instead of words (and various other differences . . . read carefully!).\n",
        "\n",
        "The game is played like this:  \n",
        "1. The computer will choose a secret code that the player is trying to guess.\n",
        "2. The secret code will be 4 digits long.  It will use only the digits 1-6, and it will have no repeated digits.  For example the secret code might be 1326 or 6241 but it cannot be 2652 or 4913 or 2601.\n",
        "3. The computer will prompt the user for a guess, and the user will guess.  The guess must follow the same rules (4 digits long, only use digits 1-6, no repeats).  The program should not allow an invalid guess.\n",
        "4. After each guess, the computer will give feedback to the user as follows:  \n",
        "(i) Each digit of the guess that is in the secret code and in the correct position is called a Bull (B).  \n",
        "(ii) Each digit of the guess that exists somewhere in the secret code, but *not* in the same position as in the guess, is called a Cow (C).  \n",
        "(iii) A digit of the guess that doesn't occur anywhere in the secret code is called a miss (X).  \n",
        "The computer will inform the user how many Bulls, how many Cows, and how many misses the user's guess had.  \n",
        "The feedback will always start with B's, then list C's, then list X's.  \n",
        "For example if the secret code is 1326  \n",
        "and the guess is 4316  \n",
        "then the computer should respond with \"BBCX\"  \n",
        "because there are two Bulls (the 3 and the 6 are Bulls, because they occur in the same position in the guess as in the secret code),  \n",
        "one Cow (the 1, which is a correct digit but in the wrong position),  \n",
        "and one Miss (the 4, which does not occur anywhere in the secret code).  \n",
        "> **Important:** the feedback string should always list the Bulls first, then the Cows, then the Misses.  It should **not** tell the user which digits are which!  The only information in the feedback string is how many of each there are.  In the example above, for instance, the feedback is **not** \"XBCB\" but rather \"BBCX\".  This is different from Wordle, if you are familiar with that game.\n",
        "5. The user should then be prompted for another guess.  This guess-with-feedback process should be repeated until the user gets the correct code, at which point the computer should indicate that they have won the game.  However, the user should only be allowed 6 guesses; if they don't guess correctly in 6 attempts, then following the feedback from their final guess they should get a message that they have lost the game, and the secret code should be revealed.\n",
        "\n",
        "\n",
        "\n",
        "\n",
        "\n",
        "\n",
        "\n"
      ]
    },
    {
      "cell_type": "markdown",
      "source": [
        "### Steps\n",
        "We will build this game using several functions.  \n",
        "\n",
        "1. **Count the Bulls:**  \n",
        "Write a function that takes two lists of the same length, and returns the number of Bulls.  That is, it should return the number of indices where the lists contain the same element.  *(Note:  you don't have to check that the entries are between 1 and 6, or that there are no repeats, etc.  A different function will do that.)*\n",
        "\n",
        "> A sample run might look like\n",
        "```\n",
        "first = [11, 3, 17, 5, 1]\n",
        "second = [20, 2, 17, 3, 1]\n",
        "count_bulls(first,second)\n",
        "```\n",
        "```\n",
        " 2\n",
        "```\n"
      ],
      "metadata": {
        "id": "XSH1JULaurD1"
      }
    },
    {
      "cell_type": "markdown",
      "source": [
        "Define your function in the code chunk below.  The function definition command and the return command are pre-populated for you.  You just have to fill in the part which does the actual counting.  I recommend using a list comprehension to do this.\n"
      ],
      "metadata": {
        "id": "pXoOyBk7xmPa"
      }
    },
    {
      "cell_type": "code",
      "source": [
        "# the Bull-counting function\n",
        "def count_bulls(first, second):\n",
        "  '''\n",
        "  Takes two lists of the same length and computes the number of positions where the list entries agree.\n",
        "  '''\n",
        "  num_bulls = sum(1 for x, y in zip(first, second) if x == y)            # finish this line of code to make the function function!\n",
        "  return num_bulls"
      ],
      "metadata": {
        "id": "vEsRSe8KxlcF"
      },
      "execution_count": 1,
      "outputs": []
    },
    {
      "cell_type": "markdown",
      "source": [
        "Add code and/or text chunks below to demonstrate that you have tested your code and that it works correctly."
      ],
      "metadata": {
        "id": "yACJyJtOzE2U"
      }
    },
    {
      "cell_type": "code",
      "source": [
        "first = [1, 2, 3, 4, 5]\n",
        "second = [1, 3, 2, 4, 5]\n",
        "count_bulls(first, second)"
      ],
      "metadata": {
        "colab": {
          "base_uri": "https://localhost:8080/"
        },
        "id": "6STPP5-xY--K",
        "outputId": "d3ef56b9-b143-4f7a-c858-c17faf3a534f"
      },
      "execution_count": 2,
      "outputs": [
        {
          "output_type": "execute_result",
          "data": {
            "text/plain": [
              "3"
            ]
          },
          "metadata": {},
          "execution_count": 2
        }
      ]
    },
    {
      "cell_type": "markdown",
      "source": [
        "The code above is the trial run of this code.  There are 3 bulls and the code correctly identifies this."
      ],
      "metadata": {
        "id": "C5Uoqd-zbZo6"
      }
    },
    {
      "cell_type": "markdown",
      "source": [
        "2. **Count something else:**  \n",
        "To count the cows it will be helpful first to count how many of the elements occur in both strings, without paying attention their positions.\n",
        "Write a function called `count_animals` that takes two lists of the same length, and returns the number of elements of the second list that are also in the first list.  (In the game setting, each such element is either a Bull or a Cow, but don't worry about which is which for this problem.)\n",
        "You may assume the lists do not contain repeated elements, since this will be the case when the function is called in the game.\n",
        "\n",
        "> This time a sample run might look like\n",
        "```\n",
        "first = [11, 3, 17, 5, 1]\n",
        "second = [20, 2, 17, 3, 1]\n",
        "count_animals(first,second)\n",
        "```\n",
        "```\n",
        " 3\n",
        "```\n",
        "\n",
        "This one isn't started for you.  Remember to include a docstring.  This can also be done using a list comprehension, similar to the previous function.\n",
        "\n"
      ],
      "metadata": {
        "id": "aMsOmejkzNVN"
      }
    },
    {
      "cell_type": "code",
      "source": [
        "# define your function here\n",
        "def count_animals(first, second):\n",
        "    animals_count = sum(1 for item in second if item in first)\n",
        "    return animals_count\n",
        "#So for this code, I define the count_animals function, and then\n",
        "# I sum 1 for each number that appears in both of the lists.  Then\n",
        "#I return the count of the total animals, which is the number of\n",
        "#numbers that appear in both lists"
      ],
      "metadata": {
        "id": "yRX219q02e6i"
      },
      "execution_count": 3,
      "outputs": []
    },
    {
      "cell_type": "markdown",
      "source": [
        "Again, demonstrate below that you have tested your code and that it works."
      ],
      "metadata": {
        "id": "HXRNwANS2f-4"
      }
    },
    {
      "cell_type": "code",
      "source": [
        "#This code chunk is about showing that I tested my code and that it works.\n",
        "#There are 4 animals in this example, and the code correctly identifies this\n",
        "first = [1, 2, 3, 4, 5]\n",
        "second = [3, 4, 2, 5, 7]\n",
        "count_animals(first, second)"
      ],
      "metadata": {
        "colab": {
          "base_uri": "https://localhost:8080/"
        },
        "id": "Qgqx5wGzcmIZ",
        "outputId": "7dcce495-a69f-4ed0-bd49-f7b18625a714"
      },
      "execution_count": 4,
      "outputs": [
        {
          "output_type": "execute_result",
          "data": {
            "text/plain": [
              "4"
            ]
          },
          "metadata": {},
          "execution_count": 4
        }
      ]
    },
    {
      "cell_type": "markdown",
      "source": [
        "3. **Count the cows:**  \n",
        "Write a function called `count_cows` that counts the cows.  \n",
        "> This time a sample run might look like\n",
        "```\n",
        "first = [11, 3, 17, 5, 1]\n",
        "second = [20, 2, 17, 3, 1]\n",
        "count_cows(first,second)\n",
        "```\n",
        "```\n",
        " 1\n",
        "```\n",
        "*Use the two previously defined functions to help you!  \n",
        "In fact, remember that the only reason we wrote the `count_animals` function was to help count the cows.*\n",
        "\n",
        "You can do this with only two lines of code, not counting documentation!"
      ],
      "metadata": {
        "id": "x2DAPkxj2GMo"
      }
    },
    {
      "cell_type": "code",
      "source": [
        "# put the Cow counting function here\n",
        "def count_cows(first, second):\n",
        "    return count_animals(first, second) - count_bulls(first, second)\n",
        "#First line of code defines the count_cows function, and then the second\n",
        "#line of code subtracts the amount of bulls from the amount of animals,\n",
        "#which leaves only the cows after that"
      ],
      "metadata": {
        "id": "QnxnaOPI3YZO"
      },
      "execution_count": 5,
      "outputs": []
    },
    {
      "cell_type": "code",
      "source": [
        "#This is a sample run\n",
        "first = [1, 2, 3, 4, 5]\n",
        "second = [1, 2, 4, 6, 7]\n",
        "count_cows(first, second)\n",
        "#Correctly identifies that there is one cow in this example set"
      ],
      "metadata": {
        "colab": {
          "base_uri": "https://localhost:8080/"
        },
        "id": "BUKfwCOveC5r",
        "outputId": "dc3609e3-3c37-42e1-f5c8-a9f4aa5125a9"
      },
      "execution_count": 6,
      "outputs": [
        {
          "output_type": "execute_result",
          "data": {
            "text/plain": [
              "1"
            ]
          },
          "metadata": {},
          "execution_count": 6
        }
      ]
    },
    {
      "cell_type": "markdown",
      "metadata": {
        "id": "hWQhYDIVYjXr"
      },
      "source": [
        "4. **Create feedback string**  \n",
        "Write a `build_response_str` function that takes three numbers, say `b,c,l`, and outputs a string of total length `l` that consists of `b` B's, followed by `c` C's, and the rest X's (until the total length is `l`).\n",
        "\n",
        "> Sample run:\n",
        "```\n",
        "build_response_str(4,3,9)\n",
        "```\n",
        "```\n",
        "BBBBCCCXX\n",
        "```"
      ]
    },
    {
      "cell_type": "code",
      "source": [
        "# define your function here\n",
        "def build_response_str(b, c, l):\n",
        "    x = l - b - c #This line calculates how many x's are needed\n",
        "    response_str = 'B' * b + 'C' * c + 'X' * x #This line makes the response string\n",
        "    return response_str"
      ],
      "metadata": {
        "id": "GSimWqUsMaPE"
      },
      "execution_count": 7,
      "outputs": []
    },
    {
      "cell_type": "markdown",
      "source": [
        "Test your code here."
      ],
      "metadata": {
        "id": "2D14kxTU7ApH"
      }
    },
    {
      "cell_type": "code",
      "source": [
        "build_response_str(4, 4, 10)\n",
        "#The code correctly identifies that there are 4 B's, 4 C's and 2 x's"
      ],
      "metadata": {
        "colab": {
          "base_uri": "https://localhost:8080/",
          "height": 35
        },
        "id": "LhfpFT0Bfebb",
        "outputId": "3d85f3e4-d3c5-4815-b683-efb7ce903d1f"
      },
      "execution_count": 8,
      "outputs": [
        {
          "output_type": "execute_result",
          "data": {
            "text/plain": [
              "'BBBBCCCCXX'"
            ],
            "application/vnd.google.colaboratory.intrinsic+json": {
              "type": "string"
            }
          },
          "metadata": {},
          "execution_count": 8
        }
      ]
    },
    {
      "cell_type": "markdown",
      "metadata": {
        "id": "omzE6sLKwsMC"
      },
      "source": [
        "5.  **Generate feedback for guesses**  \n",
        "Write a function `response(first,second)` that takes two lists of the same length, and outputs a string consisting of some number of B's followed by some number of C's followed by some number of X's, where the numbers correspond to the things we counted above.  That is, if `first` were the secret code in the game and `second` were the user's guess, then we would print one B for each Bull, one C for each Cow, and one X for each Miss. The total output string should have the same length as the input strings.\n",
        "\n",
        "> Sample run:\n",
        "```\n",
        "first = [11, 3, 17, 5, 1]\n",
        "second = [20, 2, 17, 3, 1]\n",
        "response(first,second)\n",
        "```\n",
        "```\n",
        " BBCXX\n",
        "```\n",
        "\n",
        "With all the functions you've already put in place, this should be simple.  Test your code once it's written.\n"
      ]
    },
    {
      "cell_type": "code",
      "source": [
        "def response(first, second):\n",
        "    #These count the number of bulls, cows, and misses\n",
        "    bulls = count_bulls(first, second)\n",
        "    animals = count_animals(first, second)\n",
        "    misses = len(first) - animals\n",
        "    #This makes the response string\n",
        "    response_str = build_response_str(bulls, animals - bulls, len(first))\n",
        "    return response_str"
      ],
      "metadata": {
        "id": "RD1qq7l783y5"
      },
      "execution_count": 13,
      "outputs": []
    },
    {
      "cell_type": "code",
      "source": [
        "#This is the test\n",
        "first = [1, 2, 3, 4, 5, 6]\n",
        "second = [1, 5, 4, 3, 7, 6]\n",
        "response(first, second)\n",
        "#This works correctly because it gives back BBCCCX which is correct"
      ],
      "metadata": {
        "colab": {
          "base_uri": "https://localhost:8080/",
          "height": 35
        },
        "id": "9MxyD4Fla_LB",
        "outputId": "5349101c-fcda-4897-f91a-64db0d415626"
      },
      "execution_count": 16,
      "outputs": [
        {
          "output_type": "execute_result",
          "data": {
            "text/plain": [
              "'BBCCCX'"
            ],
            "application/vnd.google.colaboratory.intrinsic+json": {
              "type": "string"
            }
          },
          "metadata": {},
          "execution_count": 16
        }
      ]
    },
    {
      "cell_type": "markdown",
      "metadata": {
        "id": "LWshNPjPZJdQ"
      },
      "source": [
        "6.  **Choose the secret code**  \n",
        "The `random` package, and specifically the `sample` sub-package, is useful for generating random samples.  Try running the following lines of code several times.\n",
        "\n"
      ]
    },
    {
      "cell_type": "code",
      "source": [
        "from random import sample\n",
        "\n",
        "sample(range(1,7),4)  # the first argument is the population to be sampled, and the second is the number of samples\n",
        "                      # recall that `range(a,b)` includes `a` but stops at `b-1`"
      ],
      "metadata": {
        "id": "OzEZ5BQZ85jV",
        "colab": {
          "base_uri": "https://localhost:8080/"
        },
        "outputId": "54986191-2acf-4ce2-a71e-d229e8e92971"
      },
      "execution_count": 21,
      "outputs": [
        {
          "output_type": "execute_result",
          "data": {
            "text/plain": [
              "[3, 6, 4, 1]"
            ]
          },
          "metadata": {},
          "execution_count": 21
        }
      ]
    },
    {
      "cell_type": "markdown",
      "source": [
        "What type of object is returned by the `sample` function?\n"
      ],
      "metadata": {
        "id": "N1BOe2Xd-kr4"
      }
    },
    {
      "cell_type": "code",
      "source": [
        "type(sample(range(1,7),4)  )\n",
        "#I checked to see what kind of object it is\n",
        "#It gives back a list"
      ],
      "metadata": {
        "id": "U5AAu9sG-slX",
        "colab": {
          "base_uri": "https://localhost:8080/"
        },
        "outputId": "93c33e1f-2119-4549-9ab9-8c1def4b1571"
      },
      "execution_count": 24,
      "outputs": [
        {
          "output_type": "execute_result",
          "data": {
            "text/plain": [
              "list"
            ]
          },
          "metadata": {},
          "execution_count": 24
        }
      ]
    },
    {
      "cell_type": "markdown",
      "source": [],
      "metadata": {
        "id": "yGZw8xFZ-uN4"
      }
    },
    {
      "cell_type": "markdown",
      "source": [
        "7. **Verify the guess**  \n",
        "Finish writing a function called `get_guess` (started below) to prompt the user for a guess and then make sure the input is valid according to the rules of the game.\n",
        "The prompt is already given.  Note that the `list` command converts the input into a list of characters so that it can be passed to the other functions (which are expecting lists).   \n",
        ">**Alert:  you will likely have to think more about data types before this is all over.**"
      ],
      "metadata": {
        "id": "mbK84TdIAVsO"
      }
    },
    {
      "cell_type": "code",
      "source": [
        "def get_guess():\n",
        "# Add code as needed to verify that the guess is legitimate.\n",
        "# Respond to an illegitimate guess with a message telling the user what the rules are\n",
        "# and asking to try again.\n",
        "    while True:\n",
        "        guess = list(input(\"Enter your guess: \"))\n",
        "        # This checks to see if the guesses have 4 digits\n",
        "        if len(guess) != 4:\n",
        "            print(\"Invalid input. Please enter exactly 4 digits.\")\n",
        "            continue\n",
        "        #This checks if all guesses are digits\n",
        "        if not all(char.isdigit() for char in guess):\n",
        "            print(\"Invalid input. Please enter digits only.\")\n",
        "            continue\n",
        "        #This checks if all digits are distinct\n",
        "        if len(set(guess)) != len(guess):\n",
        "            print(\"Invalid input. Please enter distinct digits.\")\n",
        "            continue\n",
        "        #This checks if all digits are bewteen 1 and 6\n",
        "        if not all(1 <= int(digit) <= 6 for digit in guess):\n",
        "            print(\"Invalid input. Please enter digits between 1 and 6.\")\n",
        "            continue\n",
        "        guess = [int(digit) for digit in guess]\n",
        "        return guess"
      ],
      "metadata": {
        "id": "13HGg6VvBXSH"
      },
      "execution_count": 37,
      "outputs": []
    },
    {
      "cell_type": "markdown",
      "source": [
        "As usual, test your code.  What type of objects are we dealing with here?"
      ],
      "metadata": {
        "id": "PSPYpeZYONf0"
      }
    },
    {
      "cell_type": "code",
      "source": [
        "#This is to test the get_guess() command\n",
        "get_guess()"
      ],
      "metadata": {
        "id": "ytgf6BfiOPNh",
        "colab": {
          "base_uri": "https://localhost:8080/"
        },
        "outputId": "fae0a3de-bc63-4e98-d582-a398b749af13"
      },
      "execution_count": 38,
      "outputs": [
        {
          "name": "stdout",
          "output_type": "stream",
          "text": [
            "Enter your guess: asdf\n",
            "Invalid input. Please enter digits only.\n",
            "Enter your guess: 1223\n",
            "Invalid input. Please enter distinct digits.\n",
            "Enter your guess: 1237\n",
            "Invalid input. Please enter digits between 1 and 6.\n",
            "Enter your guess: 1234\n"
          ]
        },
        {
          "output_type": "execute_result",
          "data": {
            "text/plain": [
              "[1, 2, 3, 4]"
            ]
          },
          "metadata": {},
          "execution_count": 38
        }
      ]
    },
    {
      "cell_type": "code",
      "source": [
        "#we are dealing with strings in the beginning, and then we deal with a list after that\n",
        "#because the string gets converted into a list with the list function\n",
        "#and then we are dealing with integers at the end"
      ],
      "metadata": {
        "id": "95Ii2vKQeV9C"
      },
      "execution_count": 31,
      "outputs": []
    },
    {
      "cell_type": "markdown",
      "source": [
        "8. **Put it all together**  \n",
        "Finally, fill in the details of the function `bulls_cows` below so that it will play the game of Bulls and Cows when called.  Note that the function takes no arguments and returns nothing.\n"
      ],
      "metadata": {
        "id": "WdtvUrA4-uzn"
      }
    },
    {
      "cell_type": "code",
      "execution_count": 39,
      "metadata": {
        "id": "_u48oidGzRKX"
      },
      "outputs": [],
      "source": [
        "from random import sample\n",
        "\n",
        "def bulls_cows():\n",
        "  '''\n",
        "  This function plays the game \"Bulls and Cows.\"\n",
        "  It takes no arguments and returns nothing.\n",
        "  '''\n",
        "  code=sample(range(1, 7), 4)\n",
        "  for i in range(6):                  # user gets a maximum of 6 guesses\n",
        "    guess=get_guess()                           # (finish) run a function to get a guess\n",
        "    if code==guess:\n",
        "      print(\"You guessed it!\")\n",
        "      return\n",
        "    print(response(code,guess))\n",
        "  print(f\"You have run out of guesses. The secret code was {code}.\")\n",
        "  return"
      ]
    },
    {
      "cell_type": "markdown",
      "metadata": {
        "id": "NzjqX_9K3OuV"
      },
      "source": [
        "Play the game a few times below.  Make sure it behaves as you think it should!"
      ]
    },
    {
      "cell_type": "code",
      "execution_count": 40,
      "metadata": {
        "id": "b-HELV-z3OuW",
        "colab": {
          "base_uri": "https://localhost:8080/"
        },
        "outputId": "becf1764-b402-48bc-94a2-45629c505504"
      },
      "outputs": [
        {
          "output_type": "stream",
          "name": "stdout",
          "text": [
            "Enter your guess: 1342\n",
            "CCXX\n",
            "Enter your guess: 3456\n",
            "BCXX\n",
            "Enter your guess: 3125\n",
            "CCCX\n",
            "Enter your guess: 1435\n",
            "CCXX\n",
            "Enter your guess: 6251\n",
            "You guessed it!\n"
          ]
        }
      ],
      "source": [
        "bulls_cows()"
      ]
    },
    {
      "cell_type": "code",
      "source": [
        "bulls_cows()"
      ],
      "metadata": {
        "id": "inzOdtimDfGU",
        "colab": {
          "base_uri": "https://localhost:8080/"
        },
        "outputId": "6dbbf682-a6ac-4eb1-da94-81dfee8f573c"
      },
      "execution_count": 41,
      "outputs": [
        {
          "output_type": "stream",
          "name": "stdout",
          "text": [
            "Enter your guess: asdf\n",
            "Invalid input. Please enter digits only.\n",
            "Enter your guess: 1765\n",
            "Invalid input. Please enter digits between 1 and 6.\n",
            "Enter your guess: 1233\n",
            "Invalid input. Please enter distinct digits.\n",
            "Enter your guess: 2341\n",
            "BBCX\n",
            "Enter your guess: 5641\n",
            "BCCX\n",
            "Enter your guess: 2143\n",
            "BCCX\n",
            "Enter your guess: 6543\n",
            "CCXX\n",
            "Enter your guess: 2356\n",
            "BCXX\n",
            "Enter your guess: 4325\n",
            "CCXX\n",
            "You have run out of guesses. The secret code was [2, 4, 6, 1].\n"
          ]
        }
      ]
    },
    {
      "cell_type": "code",
      "source": [
        "bulls_cows()"
      ],
      "metadata": {
        "id": "Eqw-5laFDfkG",
        "colab": {
          "base_uri": "https://localhost:8080/"
        },
        "outputId": "47db00ea-0a1c-4d95-d935-dccde4d4950f"
      },
      "execution_count": 42,
      "outputs": [
        {
          "output_type": "stream",
          "name": "stdout",
          "text": [
            "Enter your guess: 6524\n",
            "BCCX\n",
            "Enter your guess: 1234\n",
            "CCCX\n",
            "Enter your guess: 4321\n",
            "BBCX\n",
            "Enter your guess: 6524\n",
            "BCCX\n",
            "Enter your guess: 2345\n",
            "CCCX\n",
            "Enter your guess: 2456\n",
            "CCCX\n",
            "You have run out of guesses. The secret code was [4, 6, 2, 3].\n"
          ]
        }
      ]
    },
    {
      "cell_type": "markdown",
      "source": [
        "9. **Reflect**  \n",
        "Think of at least three ways you could change the rules or setup of the game, and in each case describe (in one sentence, you don't need to write code) what you would have to do to modify your code to play the new version of the game.  Use a text box below for each of your ideas."
      ],
      "metadata": {
        "id": "a58-KCX4ELRO"
      }
    },
    {
      "cell_type": "markdown",
      "source": [
        "(1) One way to change the set up would to have codes of a longer length, like 5 or 6 digits long.  To modify the code, I would need to modify the get_guess, and then the response, and bulls_cows code to allow for a longer guess."
      ],
      "metadata": {
        "id": "Jof2vIZSEfwo"
      }
    },
    {
      "cell_type": "markdown",
      "source": [
        "(2) Another way to change the setup would be to have a different range of possible digits, like 0-9 instead of 1 through 6.  To modify the code, I would have to adjust the get_guess code to allow for those digits, and then also adjust the bulls_cow code to generate the different digits."
      ],
      "metadata": {
        "id": "f2_QlBavEiqW"
      }
    },
    {
      "cell_type": "markdown",
      "source": [
        "(3) A third way to modify this game would be to allow for repeat digits in the code.  I would have to adjust the get_guess code once again to allow for this, and then also adjust bulls_cow to allow for repeat integers to be in the secret code."
      ],
      "metadata": {
        "id": "sqfq2EFpEjZt"
      }
    }
  ],
  "metadata": {
    "colab": {
      "provenance": [],
      "include_colab_link": true
    },
    "kernelspec": {
      "display_name": "Python 3",
      "name": "python3"
    },
    "language_info": {
      "name": "python"
    }
  },
  "nbformat": 4,
  "nbformat_minor": 0
}