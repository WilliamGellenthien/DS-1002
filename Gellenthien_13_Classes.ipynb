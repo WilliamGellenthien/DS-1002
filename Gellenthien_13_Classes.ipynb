{
  "nbformat": 4,
  "nbformat_minor": 0,
  "metadata": {
    "colab": {
      "provenance": [],
      "include_colab_link": true
    },
    "kernelspec": {
      "name": "python3",
      "display_name": "Python 3"
    },
    "language_info": {
      "name": "python"
    }
  },
  "cells": [
    {
      "cell_type": "markdown",
      "metadata": {
        "id": "view-in-github",
        "colab_type": "text"
      },
      "source": [
        "<a href=\"https://colab.research.google.com/github/WilliamGellenthien/DS-1002/blob/main/Gellenthien_13_Classes.ipynb\" target=\"_parent\"><img src=\"https://colab.research.google.com/assets/colab-badge.svg\" alt=\"Open In Colab\"/></a>"
      ]
    },
    {
      "cell_type": "markdown",
      "source": [
        "## Assignment:  Classes\n",
        "### Due Sunday 28 April at 10pm"
      ],
      "metadata": {
        "id": "5Vy93BSp9Tum"
      }
    },
    {
      "cell_type": "markdown",
      "source": [
        "1.  Define a class called `Person` that has attributes `lastName`, `firstName`, `mother`, and `father`.  Both `mother` and `father` should have default value `unknown`.\n",
        "\n",
        "  Include a `__str__()` function that returns a string of the form '`firstName` `lastName`'.\n",
        "\n",
        "  Include a `__repr__()` function that returns a string that can be evaluated to recreate the `Person` object.\n",
        "\n"
      ],
      "metadata": {
        "id": "vcj5XQAI9Wsb"
      }
    },
    {
      "cell_type": "code",
      "source": [
        "class Person:\n",
        "  def __init__(self, lastName, firstName, mother='unknown', father='unknown'):\n",
        "        self.lastName = lastName\n",
        "        self.firstName = firstName\n",
        "        self.mother = mother\n",
        "        self.father = father\n",
        "#All of the code above is defining how to make someone a mother or something like that\n",
        "#Also it is defining how to make the first and last names too.\n",
        "\n",
        "  def __str__(self):\n",
        "        return f'{self.firstName} {self.lastName}'\n",
        "#Above, this is showing how to call someone to get their first and last name\n",
        "  def __repr__(self):\n",
        "        return f\"Person('{self.lastName}', '{self.firstName}', '{self.mother}', '{self.father}')\"\n",
        "#Above, this is showing how to get all the information about someone, and reccreate the person object"
      ],
      "metadata": {
        "id": "mjHDwHv3EpVe"
      },
      "execution_count": 11,
      "outputs": []
    },
    {
      "cell_type": "markdown",
      "source": [
        "Create a person (i.e., a `Person` object) called `p` with unknown parents.  (You will need to give your person a first and last name.) Check the type of `p`.  Include all inputs and outputs."
      ],
      "metadata": {
        "id": "-ppMsEIVHINl"
      }
    },
    {
      "cell_type": "code",
      "source": [
        "p = Person(\"McQueen\", \"Lightning\")\n",
        "print(type(p))\n",
        "#This is creating the person Lightning McQueen and then finding out what type it is"
      ],
      "metadata": {
        "id": "5bwid_6gHIBH",
        "colab": {
          "base_uri": "https://localhost:8080/"
        },
        "outputId": "72520ce9-232a-42c0-d14f-629e7b4b0477"
      },
      "execution_count": 12,
      "outputs": [
        {
          "output_type": "stream",
          "name": "stdout",
          "text": [
            "<class '__main__.Person'>\n"
          ]
        }
      ]
    },
    {
      "cell_type": "markdown",
      "source": [
        "Verify that your `__str__` and `__repr__` functions are doing what they are supposed to do.  Include all inputs and outputs."
      ],
      "metadata": {
        "id": "Z6zlUC3xRtal"
      }
    },
    {
      "cell_type": "code",
      "source": [
        "print(\"str(p):\", str(p))\n",
        "print(\"repr(p):\", repr(p))\n",
        "#This is showing that the code written in the chunks above is correct and works properly"
      ],
      "metadata": {
        "id": "jZO0dBQYRs-K",
        "colab": {
          "base_uri": "https://localhost:8080/"
        },
        "outputId": "5a8e4ad9-fdf4-4874-cce6-fac586b7ae75"
      },
      "execution_count": 13,
      "outputs": [
        {
          "output_type": "stream",
          "name": "stdout",
          "text": [
            "str(p): Lightning McQueen\n",
            "repr(p): Person('McQueen', 'Lightning', 'unknown', 'unknown')\n"
          ]
        }
      ]
    },
    {
      "cell_type": "markdown",
      "source": [
        "Suppose the mother of `p` has been found and is named Taylor Swift.  Create a new person named Taylor Swift, and make her the mother of `p`:\n",
        "\n",
        "```\n",
        "> p.mother\n",
        "'Taylor Swift'\n",
        "```"
      ],
      "metadata": {
        "id": "1mOAThQiHzoQ"
      }
    },
    {
      "cell_type": "code",
      "source": [
        "taylor_swift = Person(\"Swift\", \"Taylor\")\n",
        "#This one creates Taylor Swift\n",
        "\n",
        "#This one makes her the mother of Lightning McQueen\n",
        "p.mother = taylor_swift\n",
        "\n",
        "print(\"repr(p):\", repr(p))\n",
        "#I did this to check that Taylor Swift was assigned to be the mother properly"
      ],
      "metadata": {
        "id": "NYbDOorpHymz",
        "colab": {
          "base_uri": "https://localhost:8080/"
        },
        "outputId": "17399a17-494a-4b1b-f36c-6fae5962f167"
      },
      "execution_count": 8,
      "outputs": [
        {
          "output_type": "stream",
          "name": "stdout",
          "text": [
            "repr(p): Person('McQueen', 'Lightning', 'Taylor Swift', 'unknown')\n"
          ]
        }
      ]
    },
    {
      "cell_type": "markdown",
      "source": [
        "2.  Add some methods to your class.  Start by copying the `class` definition you already wrote.  Then, inside the `class` definition:\n",
        "\n",
        "  (a) Write a method called `unknownParent()` which returns `True` if any parent is 'unknown' and `False` otherwise.\n",
        "\n",
        "  (b) Write a method called `maternalGrandmother()` which returns the mother's mother.  If the mother is unknown, it should return 'unknown'.\n",
        "\n"
      ],
      "metadata": {
        "id": "1g1pcrmFHzGh"
      }
    },
    {
      "cell_type": "code",
      "source": [
        "class Person:\n",
        "  def __init__(self, lastName, firstName, mother='unknown', father='unknown'):\n",
        "        self.lastName = lastName\n",
        "        self.firstName = firstName\n",
        "        self.mother = mother\n",
        "        self.father = father\n",
        "\n",
        "  def __str__(self):\n",
        "        return f'{self.firstName} {self.lastName}'\n",
        "\n",
        "  def __repr__(self):\n",
        "        return f\"Person('{self.lastName}', '{self.firstName}', '{self.mother}', '{self.father}')\"\n",
        "\n",
        "  def unknownParent(self):\n",
        "        return self.mother == 'unknown' or self.father == 'unknown'\n",
        "#This one finds out if any parent is unknown for a person\n",
        "  def maternalGrandmother(self):\n",
        "        if self.mother == 'unknown' or isinstance(self.mother, str):\n",
        "            return 'unknown'\n",
        "        elif self.mother.mother == 'unknown':\n",
        "            return 'unknown'\n",
        "        else:\n",
        "            return self.mother.mother\n",
        "#This code shows how to find out if someone has a maternal grandmother that we know\n",
        "#If we do not know the mom, then we cant know the maternal grandmother"
      ],
      "metadata": {
        "id": "7mIxJGwwKTpv"
      },
      "execution_count": 23,
      "outputs": []
    },
    {
      "cell_type": "markdown",
      "source": [
        "Create enough `Person` objects to test whether your methods are working properly.  Show all your inputs and outputs.  It is up to you to demonstrate that you have thoroughly tested the code.  You may use additional code and/or text chunks if it helps."
      ],
      "metadata": {
        "id": "l9-4gxd8FxAQ"
      }
    },
    {
      "cell_type": "code",
      "source": [
        "#This is creating all the people that I am going to test\n",
        "william = Person(\"Gellenthien\", \"William\")\n",
        "lela = Person(\"Gellenthien\", \"Lela\")\n",
        "julie = Person(\"Pike\", \"Julie\")\n",
        "janette = Person(\"Clark\", \"Janette\")\n",
        "ttom = Person(\"Gellenthien\", \"TTom\")\n",
        "mel = Person(\"Gellenthien\", \"Mel\")\n",
        "hykie = Person(\"Lyttle\", \"Hykie\")\n",
        "\n",
        "#This is assigning everyone their parents and things\n",
        "william.mother = julie\n",
        "julie.mother = janette\n",
        "lela.mother = julie\n",
        "ttom.mother = mel\n",
        "william.father = ttom\n",
        "lela.father = ttom\n",
        "\n",
        "#This is testing the different parts of my code\n",
        "print(\"Is any parent of William unknown?\", william.unknownParent())\n",
        "print(\"Is any parent of Hykie unknown?\", hykie.unknownParent())\n",
        "\n",
        "print(\"Maternal Grandmother of William:\", william.maternalGrandmother())\n",
        "print(\"Maternal Grandmother of Hykie:\", hykie.maternalGrandmother())\n",
        "print(\"Maternal Grandmother of Julie:\", julie.maternalGrandmother())"
      ],
      "metadata": {
        "id": "gX1qpcKzFwoZ",
        "colab": {
          "base_uri": "https://localhost:8080/"
        },
        "outputId": "bd1971b5-2f7d-41a8-8df4-5233002da4f9"
      },
      "execution_count": 30,
      "outputs": [
        {
          "output_type": "stream",
          "name": "stdout",
          "text": [
            "Is any parent of William unknown? False\n",
            "Is any parent of Hykie unknown? True\n",
            "Maternal Grandmother of William: Janette Clark\n",
            "Maternal Grandmother of Hykie: unknown\n",
            "Maternal Grandmother of Julie: unknown\n"
          ]
        }
      ]
    }
  ]
}