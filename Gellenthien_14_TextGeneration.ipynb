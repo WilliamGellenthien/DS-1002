{
  "nbformat": 4,
  "nbformat_minor": 0,
  "metadata": {
    "colab": {
      "provenance": [],
      "include_colab_link": true
    },
    "kernelspec": {
      "name": "python3",
      "display_name": "Python 3"
    },
    "language_info": {
      "name": "python"
    }
  },
  "cells": [
    {
      "cell_type": "markdown",
      "metadata": {
        "id": "view-in-github",
        "colab_type": "text"
      },
      "source": [
        "<a href=\"https://colab.research.google.com/github/WilliamGellenthien/DS-1002/blob/main/Gellenthien_14_TextGeneration.ipynb\" target=\"_parent\"><img src=\"https://colab.research.google.com/assets/colab-badge.svg\" alt=\"Open In Colab\"/></a>"
      ]
    },
    {
      "cell_type": "markdown",
      "source": [
        "## Final homework assignment:  generating text from a corpus\n",
        "\n",
        "Due Friday 3 May at 5 pm"
      ],
      "metadata": {
        "id": "tWbrZqoW5281"
      }
    },
    {
      "cell_type": "markdown",
      "source": [
        "We begin by loading all of Shakespeare's plays into a text file, and separating them into individual words.  This is made easy by the fact that someone already made a giant text file of these plays for us, and put it online.\n",
        "\n",
        "[Note that by changing the url in the following code chunk, you can load any text file that lives online in this way . . . see below.]\n",
        "\n",
        "Run the following code.  It should output a list of ten words, starting with 'From' and ending with 'rose'."
      ],
      "metadata": {
        "id": "7tMMjgkjF7gk"
      }
    },
    {
      "cell_type": "code",
      "source": [
        "from urllib.request import urlopen            #package for reading info from the web\n",
        "url='https://ocw.mit.edu/ans7870/6/6.006/s08/lecturenotes/files/t8.shakespeare.txt'   #web address\n",
        "text = urlopen(url).read().decode('utf-8')    #open web address, read file, convert to text\n",
        "shakespeare_words=text.split()[1651:]         #split text into words (not including preamble)\n",
        "shakespeare_words[:10]                        #display the first 10 words"
      ],
      "metadata": {
        "id": "PoW71ljm2GS-",
        "colab": {
          "base_uri": "https://localhost:8080/"
        },
        "outputId": "4730d27d-2a89-4042-e905-ccddd4ddd5dd"
      },
      "execution_count": 1,
      "outputs": [
        {
          "output_type": "execute_result",
          "data": {
            "text/plain": [
              "['From',\n",
              " 'fairest',\n",
              " 'creatures',\n",
              " 'we',\n",
              " 'desire',\n",
              " 'increase,',\n",
              " 'That',\n",
              " 'thereby',\n",
              " \"beauty's\",\n",
              " 'rose']"
            ]
          },
          "metadata": {},
          "execution_count": 1
        }
      ]
    },
    {
      "cell_type": "markdown",
      "source": [
        "## 1. `nextwords` practice\n",
        "\n",
        "Create a practice function called `createNextwordsPractice` which takes a list of words called `wordlist` and returns a dictionary called `nextwordsPractice`. The keys of `nextwordsPractice` should be all the words in `wordlist`, and the value for any given key should be a list of all the words that follow the key word somewhere in the original `wordlist`.\n",
        "\n"
      ],
      "metadata": {
        "id": "AIeohQaAHRF8"
      }
    },
    {
      "cell_type": "code",
      "source": [
        "def createNextwordsPractice(wordlist):\n",
        "  nextwordsPractice = {}\n",
        "\n",
        "  for i in range(len(wordlist) - 1):\n",
        "        current_word = wordlist[i]\n",
        "        next_word = wordlist[i + 1]\n",
        "        if current_word in nextwordsPractice:\n",
        "            nextwordsPractice[current_word].append(next_word)\n",
        "        else:\n",
        "            nextwordsPractice[current_word] = [next_word]\n",
        "  return nextwordsPractice\n",
        "#This code creates a dictionary of words and then I use a for loop to go through each word that is given to it\n",
        "#Then if that word already has a word that comes after it in the dictionary, then it will give that\n",
        "#If it does not, then the next word will be stored in the dictionary and that will be what comes after it"
      ],
      "metadata": {
        "id": "2XZa2K3C3InW"
      },
      "execution_count": 2,
      "outputs": []
    },
    {
      "cell_type": "code",
      "source": [
        "#Example run\n",
        "wordlist = [\"my\", \"name\", \"is\", \"william\", \"the\", \"best\"]\n",
        "nextwordsPractice = createNextwordsPractice(wordlist)\n",
        "print(nextwordsPractice)"
      ],
      "metadata": {
        "colab": {
          "base_uri": "https://localhost:8080/"
        },
        "id": "NNRmcLq7GP6A",
        "outputId": "c9537dea-c6c3-452e-d8ec-0d90881cff9e"
      },
      "execution_count": 3,
      "outputs": [
        {
          "output_type": "stream",
          "name": "stdout",
          "text": [
            "{'my': ['name'], 'name': ['is'], 'is': ['william'], 'william': ['the'], 'the': ['best']}\n"
          ]
        }
      ]
    },
    {
      "cell_type": "markdown",
      "source": [
        "Run the following code:"
      ],
      "metadata": {
        "id": "FH3N2raWjtfd"
      }
    },
    {
      "cell_type": "code",
      "source": [
        "practice = createNextwordsPractice(shakespeare_words)\n",
        "practice['From']"
      ],
      "metadata": {
        "id": "P3M8beYAjiie",
        "colab": {
          "base_uri": "https://localhost:8080/"
        },
        "outputId": "14fe78a7-435c-4376-f7e5-0d5fa2c165f4"
      },
      "execution_count": 4,
      "outputs": [
        {
          "output_type": "execute_result",
          "data": {
            "text/plain": [
              "['fairest',\n",
              " 'his',\n",
              " 'sullen',\n",
              " 'limits',\n",
              " 'hands',\n",
              " 'whence',\n",
              " 'where',\n",
              " 'me',\n",
              " 'this',\n",
              " 'thy',\n",
              " 'hence',\n",
              " 'thee,',\n",
              " 'you',\n",
              " 'heaven',\n",
              " 'her',\n",
              " 'simple',\n",
              " 'whence',\n",
              " 'below',\n",
              " 'lowest',\n",
              " 'courtly',\n",
              " 'son',\n",
              " 'the',\n",
              " 'the',\n",
              " 'Sicyon,',\n",
              " 'Alexandria',\n",
              " 'Silvius,',\n",
              " 'mine',\n",
              " 'the',\n",
              " 'firm',\n",
              " 'Egypt',\n",
              " 'Antony',\n",
              " 'thine',\n",
              " 'that',\n",
              " 'my',\n",
              " 'me',\n",
              " 'henceforth',\n",
              " 'tyrant',\n",
              " 'seventeen',\n",
              " 'miserable',\n",
              " 'whom',\n",
              " 'my',\n",
              " 'whence,',\n",
              " 'me',\n",
              " 'me',\n",
              " 'slaves',\n",
              " 'every',\n",
              " 'rascals',\n",
              " 'whom',\n",
              " 'where',\n",
              " \"th'\",\n",
              " 'Rome',\n",
              " 'off',\n",
              " 'these',\n",
              " 'twelve',\n",
              " \"th'\",\n",
              " 'whence?',\n",
              " 'Rome.',\n",
              " 'thy',\n",
              " 'Gallia',\n",
              " 'fairies',\n",
              " 'off',\n",
              " \"th'\",\n",
              " 'most',\n",
              " 'thy',\n",
              " 'youth',\n",
              " 'every',\n",
              " 'whose',\n",
              " 'so',\n",
              " 'one',\n",
              " 'this',\n",
              " 'the',\n",
              " 'east',\n",
              " 'action',\n",
              " 'my',\n",
              " 'this',\n",
              " 'Leonati',\n",
              " 'her',\n",
              " 'chance',\n",
              " 'south',\n",
              " 'our',\n",
              " 'whence',\n",
              " 'the',\n",
              " 'top',\n",
              " 'this',\n",
              " 'our',\n",
              " 'that',\n",
              " 'me,',\n",
              " 'fashion',\n",
              " 'the',\n",
              " 'another',\n",
              " 'Hamlet?',\n",
              " 'whence',\n",
              " 'whom',\n",
              " \"Rumour's\",\n",
              " 'whence',\n",
              " 'the',\n",
              " 'a',\n",
              " 'a',\n",
              " 'enemies',\n",
              " 'every',\n",
              " 'this',\n",
              " 'the',\n",
              " 'open',\n",
              " 'whom',\n",
              " \"glist'ring\",\n",
              " 'our',\n",
              " 'him,',\n",
              " 'his',\n",
              " 'him,',\n",
              " 'camp',\n",
              " 'this',\n",
              " 'off',\n",
              " 'helmet',\n",
              " 'him',\n",
              " 'off',\n",
              " 'Lionel',\n",
              " 'John',\n",
              " 'famous',\n",
              " 'envious',\n",
              " 'whence',\n",
              " 'thence',\n",
              " 'bought',\n",
              " 'thee,',\n",
              " 'top',\n",
              " 'thence',\n",
              " 'meaning',\n",
              " \"treason's\",\n",
              " 'such',\n",
              " 'thee',\n",
              " 'Ireland',\n",
              " \"Clifford's\",\n",
              " 'your',\n",
              " 'London',\n",
              " 'whence',\n",
              " 'off',\n",
              " 'whence',\n",
              " 'Scotland',\n",
              " 'such',\n",
              " 'worthy',\n",
              " 'these',\n",
              " 'giving',\n",
              " 'France?',\n",
              " 'Ravenspurgh',\n",
              " 'shelves',\n",
              " 'those',\n",
              " 'his',\n",
              " 'sincere',\n",
              " 'every',\n",
              " 'foreign',\n",
              " 'princes',\n",
              " 'these',\n",
              " 'any',\n",
              " 'Ampthill,',\n",
              " 'your',\n",
              " 'hence',\n",
              " 'her',\n",
              " 'henceforth',\n",
              " 'France',\n",
              " 'whom',\n",
              " 'that',\n",
              " 'first',\n",
              " 'north',\n",
              " 'all',\n",
              " 'a',\n",
              " 'his',\n",
              " 'France',\n",
              " 'forth',\n",
              " 'whose',\n",
              " 'forth',\n",
              " 'this',\n",
              " 'out',\n",
              " 'forth',\n",
              " 'that',\n",
              " 'the',\n",
              " 'which',\n",
              " 'whom',\n",
              " 'what',\n",
              " 'the',\n",
              " 'hence',\n",
              " 'this',\n",
              " 'Goneril',\n",
              " 'those',\n",
              " 'seasons',\n",
              " 'that',\n",
              " 'her',\n",
              " 'the',\n",
              " 'a',\n",
              " 'tawny',\n",
              " \"reason's\",\n",
              " 'my',\n",
              " 'which',\n",
              " 'my',\n",
              " 'the',\n",
              " \"women's\",\n",
              " 'whence',\n",
              " \"women's\",\n",
              " 'morn',\n",
              " 'what',\n",
              " 'Fife,',\n",
              " 'hence',\n",
              " 'this',\n",
              " 'thence',\n",
              " 'whom',\n",
              " 'the',\n",
              " 'this',\n",
              " 'whence',\n",
              " 'what',\n",
              " 'over-credulous',\n",
              " 'which',\n",
              " 'too',\n",
              " 'whom',\n",
              " 'his',\n",
              " 'fasting',\n",
              " 'thee;',\n",
              " \"flow'ry\",\n",
              " 'thine',\n",
              " 'such',\n",
              " 'our',\n",
              " 'such',\n",
              " 'the',\n",
              " 'the',\n",
              " 'whom',\n",
              " 'Tripolis,',\n",
              " 'Lisbon,',\n",
              " 'out',\n",
              " 'any',\n",
              " 'brassy',\n",
              " 'stubborn',\n",
              " 'both,',\n",
              " 'the',\n",
              " 'the',\n",
              " 'time',\n",
              " 'Athens',\n",
              " \"lovers'\",\n",
              " 'Perigouna,',\n",
              " 'our',\n",
              " 'sleeping',\n",
              " \"monster's\",\n",
              " 'these',\n",
              " 'off',\n",
              " 'the',\n",
              " 'my',\n",
              " 'Claudio,',\n",
              " 'men',\n",
              " 'year',\n",
              " 'her',\n",
              " 'him',\n",
              " 'one',\n",
              " 'jealousy!',\n",
              " 'whence',\n",
              " 'the',\n",
              " 'any',\n",
              " 'the',\n",
              " 'this',\n",
              " 'giving',\n",
              " 'where',\n",
              " 'forth',\n",
              " 'some',\n",
              " 'Ravenspurgh',\n",
              " 'the',\n",
              " 'forth',\n",
              " 'off',\n",
              " 'my',\n",
              " \"Richard's\",\n",
              " 'out',\n",
              " 'sun',\n",
              " \"plume-pluck'd\",\n",
              " 'which',\n",
              " 'whence',\n",
              " 'your',\n",
              " 'whence',\n",
              " 'cold',\n",
              " 'wayward',\n",
              " 'that',\n",
              " 'this',\n",
              " 'my',\n",
              " 'the',\n",
              " 'all',\n",
              " 'forth',\n",
              " 'which',\n",
              " 'all',\n",
              " 'Tamworth',\n",
              " 'the',\n",
              " 'ancient',\n",
              " 'forth',\n",
              " \"Love's\",\n",
              " 'forth',\n",
              " 'off',\n",
              " 'this',\n",
              " 'all',\n",
              " 'Florence,',\n",
              " 'mine',\n",
              " 'the',\n",
              " 'what',\n",
              " 'me,',\n",
              " 'bogs,',\n",
              " 'me',\n",
              " 'Milan',\n",
              " 'toe',\n",
              " 'eaves',\n",
              " 'strange',\n",
              " 'whence',\n",
              " 'Isidore:',\n",
              " 'our',\n",
              " 'forth',\n",
              " 'change',\n",
              " \"gen'ral\",\n",
              " 'high',\n",
              " 'Alcibiades',\n",
              " 'niggard',\n",
              " 'weary',\n",
              " 'where',\n",
              " 'whence',\n",
              " 'this',\n",
              " 'these',\n",
              " 'thousand',\n",
              " 'heaven!',\n",
              " 'isles',\n",
              " 'his',\n",
              " 'Troy.',\n",
              " \"Cupid's\",\n",
              " 'false',\n",
              " 'certain',\n",
              " 'Troy',\n",
              " 'heart',\n",
              " 'whence,',\n",
              " 'my',\n",
              " 'the',\n",
              " 'the',\n",
              " 'my',\n",
              " 'a',\n",
              " 'hence,',\n",
              " 'Milan.',\n",
              " 'whom?',\n",
              " 'my',\n",
              " 'heartiness,',\n",
              " 'east,',\n",
              " 'course',\n",
              " 'him',\n",
              " 'our',\n",
              " 'all',\n",
              " 'your',\n",
              " 'those',\n",
              " 'the',\n",
              " \"Dis's\",\n",
              " 'the',\n",
              " 'my',\n",
              " 'thy',\n",
              " 'off']"
            ]
          },
          "metadata": {},
          "execution_count": 4
        }
      ]
    },
    {
      "cell_type": "code",
      "source": [
        "practice['rose']"
      ],
      "metadata": {
        "id": "W5FCOXElICLb",
        "colab": {
          "base_uri": "https://localhost:8080/"
        },
        "outputId": "c4206307-99a8-4887-f820-fba661f8f831"
      },
      "execution_count": 5,
      "outputs": [
        {
          "output_type": "execute_result",
          "data": {
            "text/plain": [
              "['might',\n",
              " 'looks',\n",
              " 'is',\n",
              " 'of',\n",
              " 'Of',\n",
              " 'may',\n",
              " 'will',\n",
              " 'of',\n",
              " 'From',\n",
              " 'and',\n",
              " 'of',\n",
              " 'both',\n",
              " 'with',\n",
              " 'from',\n",
              " 'with',\n",
              " 'with',\n",
              " 'side.',\n",
              " 'red,',\n",
              " 'too.',\n",
              " 'in',\n",
              " 'a',\n",
              " 'a',\n",
              " 'I',\n",
              " 'against',\n",
              " 'that',\n",
              " 'and',\n",
              " 'from',\n",
              " 'again,',\n",
              " 'Lest',\n",
              " 'against',\n",
              " 'Than',\n",
              " \"distill'd\",\n",
              " 'on',\n",
              " 'up',\n",
              " 'in',\n",
              " 'wither.',\n",
              " 'and',\n",
              " 'By',\n",
              " 'again?',\n",
              " 'he']"
            ]
          },
          "metadata": {},
          "execution_count": 5
        }
      ]
    },
    {
      "cell_type": "code",
      "source": [
        "practice['rose.']"
      ],
      "metadata": {
        "id": "Vr57wNx5BO4K",
        "colab": {
          "base_uri": "https://localhost:8080/"
        },
        "outputId": "12de479c-34a7-47c9-bbb8-4abe6f117027"
      },
      "execution_count": 6,
      "outputs": [
        {
          "output_type": "execute_result",
          "data": {
            "text/plain": [
              "['It']"
            ]
          },
          "metadata": {},
          "execution_count": 6
        }
      ]
    },
    {
      "cell_type": "markdown",
      "source": [
        "## 2. `nextwords` for real:  new sentences.\n",
        "\n",
        "Next, write a new function called `createNextwords` which takes a `wordlist` and returns a dictionary of `nextwords`, but now with a new additional feature.  \n",
        "In addition to the keys from problem 1, add a special key to the dictionary, which will be the symbol '%'.  This key will signify the first word of a sentence. When scanning the wordlist to construct the `nextwords` dictionary, normally you would add `wordlist[i+1]` to the list `nextwords[wordlist[i]]`. However, if `wordlist[i]` ends with a period, then you should instead add `wordlist[i+1]` to the list nextwords['%']. Also add the very first word of `wordlist` to nextwords['%'].\n",
        "\n",
        "\n",
        "You should be able to produce this output:\n",
        "```\n",
        "> shakespeare_nextwords=createNextwords(shakespeare_words)\n",
        "> shakespeare_nextwords['Rose']\n",
        "['at', 'or', 'or', 'and']\n",
        "\n",
        "> shakespeare_nextwords['rose.']\n",
        "[]\n",
        "\n",
        "> len(shakespeare_nextwords['%'])\n",
        "76543\n",
        "```"
      ],
      "metadata": {
        "id": "t221x1X3iRVA"
      }
    },
    {
      "cell_type": "code",
      "source": [
        "def createNextwords(wordlist):\n",
        "  nextwords = {'%': []}\n",
        "  for i in range(len(wordlist) - 1):\n",
        "        current_word = wordlist[i]\n",
        "        next_word = wordlist[i + 1]\n",
        "\n",
        "        if current_word.endswith('.'):\n",
        "            nextwords.setdefault('%', []).append(next_word)\n",
        "        else:\n",
        "            nextwords.setdefault(current_word, []).append(next_word)\n",
        "\n",
        "  nextwords['%'].append(wordlist[0])\n",
        "  return nextwords\n",
        "#At the top, I tell the dictionary about the special symbol %: [] to signify the beginning of a sentence\n",
        "#Then we use a for loop like the otehr code above and if the word has a period after it, then the code looks at the nect word list associated with the %\n",
        "#If it does not have a period, then it looks at the word list based on the current word\n",
        "#Then the top word of thw word list is put into the nextwords[%] to make sure that all senetecnes start with it"
      ],
      "metadata": {
        "id": "Ze_-Uv2alRWX"
      },
      "execution_count": 12,
      "outputs": []
    },
    {
      "cell_type": "markdown",
      "source": [
        "Run the following code:"
      ],
      "metadata": {
        "id": "x7bamoxBlX6Q"
      }
    },
    {
      "cell_type": "code",
      "source": [
        "shakespeare_nextwords = createNextwords(shakespeare_words)\n",
        "\n",
        "print(shakespeare_nextwords['Rose'])\n",
        "print(len(shakespeare_nextwords['%']))"
      ],
      "metadata": {
        "id": "xv4ANlzvlZ2e",
        "colab": {
          "base_uri": "https://localhost:8080/"
        },
        "outputId": "ad50953a-d047-49a6-e8c1-6d7d38c95639"
      },
      "execution_count": 13,
      "outputs": [
        {
          "output_type": "stream",
          "name": "stdout",
          "text": [
            "['at', 'or', 'or', 'and']\n",
            "76543\n"
          ]
        }
      ]
    },
    {
      "cell_type": "code",
      "source": [
        "print(len(shakespeare_nextwords['rose']))"
      ],
      "metadata": {
        "id": "NsLW7PYYCj1r",
        "colab": {
          "base_uri": "https://localhost:8080/"
        },
        "outputId": "6005bbb4-804e-4853-977f-a79c2c1c7adf"
      },
      "execution_count": 14,
      "outputs": [
        {
          "output_type": "stream",
          "name": "stdout",
          "text": [
            "40\n"
          ]
        }
      ]
    },
    {
      "cell_type": "code",
      "source": [
        "print(shakespeare_nextwords['rose.'])"
      ],
      "metadata": {
        "id": "NyjLxUKiIPqG",
        "colab": {
          "base_uri": "https://localhost:8080/",
          "height": 144
        },
        "outputId": "1927ccd8-15a8-43bd-ef79-4426da4a8d88"
      },
      "execution_count": 15,
      "outputs": [
        {
          "output_type": "error",
          "ename": "KeyError",
          "evalue": "'rose.'",
          "traceback": [
            "\u001b[0;31m---------------------------------------------------------------------------\u001b[0m",
            "\u001b[0;31mKeyError\u001b[0m                                  Traceback (most recent call last)",
            "\u001b[0;32m<ipython-input-15-5ec62f6c566a>\u001b[0m in \u001b[0;36m<cell line: 1>\u001b[0;34m()\u001b[0m\n\u001b[0;32m----> 1\u001b[0;31m \u001b[0mprint\u001b[0m\u001b[0;34m(\u001b[0m\u001b[0mshakespeare_nextwords\u001b[0m\u001b[0;34m[\u001b[0m\u001b[0;34m'rose.'\u001b[0m\u001b[0;34m]\u001b[0m\u001b[0;34m)\u001b[0m\u001b[0;34m\u001b[0m\u001b[0;34m\u001b[0m\u001b[0m\n\u001b[0m",
            "\u001b[0;31mKeyError\u001b[0m: 'rose.'"
          ]
        }
      ]
    },
    {
      "cell_type": "markdown",
      "source": [
        "## 3.  Make your own Shakespeare play\n",
        "\n",
        "Okay, that may be a bit of an exaggeration.  Anyway, next up is text generation.  \n",
        "We'll need the choice function:"
      ],
      "metadata": {
        "id": "BCIAfYSIX3VC"
      }
    },
    {
      "cell_type": "code",
      "source": [
        "from random import choice"
      ],
      "metadata": {
        "id": "rbBHDv55Biae"
      },
      "execution_count": 16,
      "outputs": []
    },
    {
      "cell_type": "markdown",
      "source": [
        "This function chooses a random element from a list.  Run this code a few times:"
      ],
      "metadata": {
        "id": "-vCM3Z0BmAw9"
      }
    },
    {
      "cell_type": "code",
      "source": [
        "choice([1, 17, 34, 289])"
      ],
      "metadata": {
        "colab": {
          "base_uri": "https://localhost:8080/"
        },
        "id": "FGMf-UmAl_uf",
        "outputId": "a40efe29-b336-4f6f-eba1-1b61a34df4c4"
      },
      "execution_count": 24,
      "outputs": [
        {
          "output_type": "execute_result",
          "data": {
            "text/plain": [
              "289"
            ]
          },
          "metadata": {},
          "execution_count": 24
        }
      ]
    },
    {
      "cell_type": "markdown",
      "source": [
        "Now, create a function called `makePlay(nextwords,n)` which takes a dictionary `nextwords` and a number `n`, and follows these steps:\n",
        "1. Define an empty `newplay` string.  (I did this for you.)\n",
        "2. Set `currentword` equal to '%'.\n",
        "3. Start a for-loop that will run `n` times.\n",
        "4. Randomly choose a word from the list `nextwords[currentword]`.\n",
        "5. Add the chosen word to `newplay`, followed by a space `' '` character.\n",
        "6. If the chosen word ends in a period, add a newline character '\\n' and set `currentword` equal to `%`.\n",
        "7. Otherwise, set `currentword` equal to the chosen word.\n",
        "8. Go back to step 4.\n",
        "9. When all `n` iterations have finished, your function should return `newplay`."
      ],
      "metadata": {
        "id": "ZmLqxclQYMpl"
      }
    },
    {
      "cell_type": "code",
      "source": [
        "import random\n",
        "def makePlay(nextwords,n):\n",
        "  newplay=''\n",
        "  currentword = '%'\n",
        "\n",
        "#This starts the for loop that will run n times\n",
        "  for _ in range(n):\n",
        "        if currentword not in nextwords:\n",
        "            break\n",
        "\n",
        "        #This part randomly chooses a word from the list nextwords[currentword]\n",
        "        chosen_word = random.choice(nextwords[currentword])\n",
        "\n",
        "        #This part adds the chosen word to newplay followed by a space character\n",
        "        newplay += chosen_word + ' '\n",
        "\n",
        "        #This part does the part if the chosen word ends in a period, add a newline character '\\n' and set currentword equal to '%'\n",
        "        if chosen_word.endswith('.'):\n",
        "            newplay += '\\n'\n",
        "            currentword = '%'\n",
        "        #This is the otherwise set currentword equal to the chosen word\n",
        "        else:\n",
        "            currentword = chosen_word\n",
        "  return newplay\n"
      ],
      "metadata": {
        "id": "gMxDF-MiYqD2"
      },
      "execution_count": 27,
      "outputs": []
    },
    {
      "cell_type": "markdown",
      "source": [
        "Now create a 1000 word Shakesperian play by running the following code:"
      ],
      "metadata": {
        "id": "v_uCxqDZtuhP"
      }
    },
    {
      "cell_type": "code",
      "source": [
        "nextwords=createNextwords(shakespeare_words)\n",
        "newplay=makePlay(nextwords,1000)\n",
        "print(newplay)"
      ],
      "metadata": {
        "id": "KVtzPXWWEdDR",
        "colab": {
          "base_uri": "https://localhost:8080/"
        },
        "outputId": "dfca40c9-8a87-42f1-830b-5d389fc03e9f"
      },
      "execution_count": 28,
      "outputs": [
        {
          "output_type": "stream",
          "name": "stdout",
          "text": [
            "[Stabs him] PANDARUS. \n",
            "Pindarus descends. \n",
            "By Hercules, Six years ago. \n",
            "KING HENRY. \n",
            "Flourish. \n",
            "Most high, unmatchable, Where Phoebus' steeds are you? ANTONY. \n",
            "Is't known to lie. \n",
            "Parolles, you redeem'd your frown, 'tis with my lord. \n",
            "I hold ambition of ale with a million of your many shallow things; for staying on his cheek, And make one or ere it was cozen'd Of your worship to entrap the time Even so link'd in the business!' SICINIUS. \n",
            "PAINTER. \n",
            "O fie! what, Robert! John! Robert! John! Robert! MRS. \n",
            "FIRST SENATOR. \n",
            "Exeunt [all but the course t' adore a young man and more and FLUELLEN and beasts from thy bed-vow broke from the thing entire to my judge, He is bespoke. \n",
            "What say'st thou wilt amend this face. \n",
            "Prince. \n",
            "He did shoot nearer, honest man, a merchant? MERCHANT. \n",
            "To be not much, nor sorrow craves to my husband being one, Were full eyes, and an outward favor. \n",
            "I am barr'd, it is no good matter, man? The worst of smiles before their departure Two lovely April when you thus? Prince. \n",
            "[Waking] And stole these cases of merit thou and bid it stinted, and Fool. \n",
            "I'll leave to friend Lucio. \n",
            "AUMERLE. \n",
            "BRUTUS. \n",
            "PAGE. \n",
            "PRINCESS OF LONDON, bearing the breeder of salt, your mind. \n",
            "Whoever bound them To his country; though 'Tis an heir of me, my liege, why rebuke you lead their own defence; Or die before the authority of good addition I do thou art, Were they do return the corner-cap of Eglamour, I speak, and strength o' th' approaches makes choice he hath her- that. \n",
            "Foul stigmatic, Mark'd you generals! What said well? MENAS. \n",
            "Pol. \n",
            "There's not know. \n",
            "He, with rumours, full of money for a sieve I do. \n",
            "Let her budget? The next day. \n",
            "ARIEL. \n",
            "Ay, sharp quillets how the rogue will I come forth, But you now, Cromwell! Had I would have him approach The King hath twenty pair of Golgotha and thy hand. \n",
            "Will do beseech your own imperfection; but, I know no longer. \n",
            "If I am I myself and not Hero? Hero. \n",
            "Ah, ah! CRESSIDA. \n",
            "You have the matter? CASSIUS. \n",
            "He'll not heard that. \n",
            "Madam, methinks, is a boy), a MESSENGER and wear a special nothing in the heart; Th' oppressor's wrong, or horse. \n",
            "Marry, God Almighty help him, Kneel not, but to this cunning and their hate what we shall bid me knows nothing, But at your Grace a fool to stand up their country Justices DAVY, servant to know- DUKE. \n",
            "We'll light of a one that made it be rend'red up he found this army is politic; Strong as some light in my place; Then, if your battle, at your Grace is one, Methinks I credit for they shall appear: my lord ready are a new proclamation to life? GLOUCESTER. \n",
            "Good Captain Spurio, a daw. \n",
            "Into the Soothsayer. \n",
            "In both itself But that, Being all England now, He tires are to ruin, there be That Nature never be, if He is paid. \n",
            "TIMON. \n",
            "Good Griffith, farewell. \n",
            "What serious in our main intendment of duty in each calamity. \n",
            "I'll like a child of his head; I'll do you their pleasures. \n",
            "CLARENCE. \n",
            "FALSTAFF. \n",
            "Yet if you shall we administer: You are we would have taken a sinful oath. \n",
            "Cargo, cargo, cargo, cargo, cargo, cargo, cargo. \n",
            "Pass our rehearsal. \n",
            "KING HENRY. \n",
            "BAPTISTA. \n",
            "Then, happy wife, my lord, here is a hard construction must be no welcomes forth; The nature given to be bold, Iago, my pocket, we split! Farewell, my friend to go hide my cousin's death. \n",
            "Cap. \n",
            "[Showing a fiend That down again, My son of gold of my faith, you'll procure That bears well. \n",
            "As double ducats, five, I do not ask some vengeance comes lean luck would make you as you did know security Is he had he opens the powers As, nimble soles; I cross; then that would depart alone, either were the same vengeance sets off; thy spirits o' th' interpretation of th' fire that Perfumes the old master! Glou. \n",
            "This interchange of kings! Rather than that Angelo is in an ass. \n",
            "MACBETH. \n",
            "Ay, ay; and suddenly to safeguard Of excellent sherris warms you dare make me tell him forthwith, Ere a messenger turns in the Duke of Douglas is so troubles oft for ever! [Flourish. \n",
            "So doth permit the fear? CLIFFORD. \n",
            "I found a big assemblance of bays or some office, but make you what make his passions bottomless with winter is the platform, masters; and his airy air. \n",
            "No it is my warrior- he stands by my love thee with you, in the name! a gentleman. \n",
            "As thou hast been, my most fair, And part in a troubled With a full-charg'd confederacy, and DAUGHTER of worth. \n",
            "In differences so your reproof of her too. \n",
            "PROHIBITED COMMERCIAL DISTRIBUTION INCLUDES BY WORLD LIBRARY, INC., AND MACHINE READABLE COPIES (1) ARE FOR MEMBERSHIP.>> ACT IV. \n",
            "Re-enter GLOUCESTER GAUNT. \n",
            "She'll taste of me with, the tempest lodged. \n",
            "Go, hop me cause to bend, now attend To woo her, I in some kin to her. \n",
            "HELENA. \n",
            "THIRD GENTLEMAN. \n",
            "I am sent in a repair and grafted That, upon thy fair edifices fore our pomp? O royal view, The loss of Cumberland! That whiles I am the due to gratify your husband from his lords, our names, Familiar in my throne, And top of my lord, lest some of a hoop? Hast thou whose colours that dignity would have indeed. \n",
            "<<THIS ELECTRONIC AND (2) ARE FOR MEMBERSHIP.>> 1595 LOVE'S LABOUR'S LOST by rushy brook, Augmenting it out of the Queen, For him, he dead, so bedazzled with you; but in ten.' COUNTESS. \n",
            "Widow! a glist'ring grief of itself that spurs in the rather show him but what I think it promises; her seeming. \n",
            "--I did long before the bonny prizer of France, And stop this place. \n",
            "[PAULINA draws folly help'd thee mad as the commons' mind, That vow we despise; our eyes doth your sorrow that is nothing lie within another's enterprise; But then conceiving, did ne'er were none \n"
          ]
        }
      ]
    },
    {
      "cell_type": "markdown",
      "source": [
        "At this point you might enjoy finding other sources of text on the internet and replacing the url at the top of this notebook. You can use song lyrics, news articles, etc. You just need to find files ending with '.txt'. Alternatively, you can copy and paste any block of text from any file into colab, assign it to the variable `text`, and then use wordlist=text.split() to get a list of words."
      ],
      "metadata": {
        "id": "cHcYHBcNu65y"
      }
    },
    {
      "cell_type": "markdown",
      "source": [
        "## Bonus:\n",
        "\n",
        "Recall the following recursive function that we used to define the Fibonacci numbers:"
      ],
      "metadata": {
        "id": "SOZ_vzwJoG45"
      }
    },
    {
      "cell_type": "code",
      "source": [
        "def fibonacci(n):\n",
        "  # Base cases: F(0) = 0, F(1) = 1\n",
        "  if n == 0:\n",
        "    return 0\n",
        "  elif n == 1:\n",
        "    return 1\n",
        "  else:\n",
        "    # Recursive case: F(n) = F(n-1) + F(n-2)\n",
        "    return fibonacci(n - 1) + fibonacci(n - 2)\n"
      ],
      "metadata": {
        "id": "KTj2L--_oQDu"
      },
      "execution_count": null,
      "outputs": []
    },
    {
      "cell_type": "markdown",
      "source": [
        "Here is the question.  If you run this line of code:  \n",
        "`fibonacci(17)`  \n",
        "how many times does the function `fibonacci()` get called?  \n",
        "(The answer is not 1597, which is the value returned by the function.)"
      ],
      "metadata": {
        "id": "C-PtiPKwod0m"
      }
    },
    {
      "cell_type": "code",
      "source": [
        "def fibonacci(n, calls=0):\n",
        "    #The base cases are F(0) = 0, F(1) = 1\n",
        "    if n == 0:\n",
        "        return 0, calls + 1\n",
        "    elif n == 1:\n",
        "        return 1, calls + 1\n",
        "    else:\n",
        "        #This is for the recursive case: F(n) = F(n-1) + F(n-2)\n",
        "        fib1, calls = fibonacci(n - 1, calls)\n",
        "        fib2, calls = fibonacci(n - 2, calls)\n",
        "        return fib1 + fib2, calls + 1\n",
        "\n",
        "result, calls = fibonacci(17)\n",
        "print(\"Result:\", result)\n",
        "print(\"Function calls:\", calls)\n"
      ],
      "metadata": {
        "colab": {
          "base_uri": "https://localhost:8080/"
        },
        "id": "0elIF7voRn8g",
        "outputId": "92c0e4fc-4d43-45c3-8b3a-32ea9bc44f96"
      },
      "execution_count": 30,
      "outputs": [
        {
          "output_type": "stream",
          "name": "stdout",
          "text": [
            "Result: 1597\n",
            "Function calls: 5167\n"
          ]
        }
      ]
    },
    {
      "cell_type": "markdown",
      "source": [
        "The answer is 5167 function calls"
      ],
      "metadata": {
        "id": "wywi9m4vTZEl"
      }
    }
  ]
}