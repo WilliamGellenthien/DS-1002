{
  "nbformat": 4,
  "nbformat_minor": 0,
  "metadata": {
    "colab": {
      "provenance": [],
      "authorship_tag": "ABX9TyMsJwEAadQLDjNLm1TT152i",
      "include_colab_link": true
    },
    "kernelspec": {
      "name": "python3",
      "display_name": "Python 3"
    },
    "language_info": {
      "name": "python"
    }
  },
  "cells": [
    {
      "cell_type": "markdown",
      "metadata": {
        "id": "view-in-github",
        "colab_type": "text"
      },
      "source": [
        "<a href=\"https://colab.research.google.com/github/WilliamGellenthien/DS-1002/blob/main/HW5.ipynb\" target=\"_parent\"><img src=\"https://colab.research.google.com/assets/colab-badge.svg\" alt=\"Open In Colab\"/></a>"
      ]
    },
    {
      "cell_type": "code",
      "execution_count": 45,
      "metadata": {
        "colab": {
          "base_uri": "https://localhost:8080/"
        },
        "id": "uJTe4_d_nanY",
        "outputId": "409dd6ce-0861-480d-eae6-dac4eaa156d0"
      },
      "outputs": [
        {
          "output_type": "stream",
          "name": "stdout",
          "text": [
            "Requirement already satisfied: english_words in /usr/local/lib/python3.10/dist-packages (2.0.1)\n"
          ]
        }
      ],
      "source": [
        "!pip install english_words\n",
        "from english_words import get_english_words_set\n",
        "words = get_english_words_set(['web2'], lower=True)"
      ]
    },
    {
      "cell_type": "code",
      "source": [
        "type(words)\n",
        "# the data is currently a set variable"
      ],
      "metadata": {
        "colab": {
          "base_uri": "https://localhost:8080/"
        },
        "id": "lAOTjtxVoLvC",
        "outputId": "ef6419e2-f743-4657-ae1f-11a7bef1b1ef"
      },
      "execution_count": 46,
      "outputs": [
        {
          "output_type": "execute_result",
          "data": {
            "text/plain": [
              "set"
            ]
          },
          "metadata": {},
          "execution_count": 46
        }
      ]
    },
    {
      "cell_type": "code",
      "source": [
        "wordlist = list(words)\n",
        "# this changes it into a list"
      ],
      "metadata": {
        "id": "ZdHS69MEpRWc"
      },
      "execution_count": 47,
      "outputs": []
    },
    {
      "cell_type": "code",
      "source": [
        "len(wordlist)\n",
        "# This prints out the length of the list.  The list is 234450 words long"
      ],
      "metadata": {
        "colab": {
          "base_uri": "https://localhost:8080/"
        },
        "id": "O4ewzNavqb5k",
        "outputId": "57f797c5-1d93-4c9a-ae2f-ef68c8919426"
      },
      "execution_count": 48,
      "outputs": [
        {
          "output_type": "execute_result",
          "data": {
            "text/plain": [
              "234450"
            ]
          },
          "metadata": {},
          "execution_count": 48
        }
      ]
    },
    {
      "cell_type": "code",
      "source": [
        "print(wordlist[:10])\n",
        "# this prints the first 10 words in the list\n",
        "# the words are seemingly random"
      ],
      "metadata": {
        "colab": {
          "base_uri": "https://localhost:8080/"
        },
        "id": "V4eZubWNp2i4",
        "outputId": "f2cdcf83-95e0-4010-fb60-4f02c2b28278"
      },
      "execution_count": 49,
      "outputs": [
        {
          "output_type": "stream",
          "name": "stdout",
          "text": [
            "['eyot', 'surrejoin', 'fallibly', 'nonconducive', 'forwoden', 'chest', 'funnelwise', 'symbranchia', 'limnanthaceous', 'pyroid']\n"
          ]
        }
      ]
    },
    {
      "cell_type": "code",
      "source": [
        "alpha_list = sorted(wordlist)\n",
        "# This sorts the words alphabetically\n",
        "print(alpha_list[:10])\n",
        "# this prints the first 10 terms of the alpha_list list"
      ],
      "metadata": {
        "colab": {
          "base_uri": "https://localhost:8080/"
        },
        "id": "s65mUJevquU7",
        "outputId": "190aeaa6-6e31-40cd-b507-0f5e49d317e9"
      },
      "execution_count": 50,
      "outputs": [
        {
          "output_type": "stream",
          "name": "stdout",
          "text": [
            "['a', 'aa', 'aal', 'aalii', 'aam', 'aani', 'aardvark', 'aardwolf', 'aaron', 'aaronic']\n"
          ]
        }
      ]
    },
    {
      "cell_type": "code",
      "source": [
        "count_words_starting_with_a = sum(word.startswith('a') for word in wordlist)\n",
        "# This counts the words\n",
        "print(count_words_starting_with_a)\n",
        "# This prints out how many start with a\n",
        "# There are 16982 words that start with a"
      ],
      "metadata": {
        "colab": {
          "base_uri": "https://localhost:8080/"
        },
        "id": "dt-lMWp_sloA",
        "outputId": "99d4d498-0bb0-4fd4-b5d4-6c6a690abf11"
      },
      "execution_count": 51,
      "outputs": [
        {
          "output_type": "stream",
          "name": "stdout",
          "text": [
            "16982\n"
          ]
        }
      ]
    },
    {
      "cell_type": "code",
      "source": [
        "count_words_with_q = sum('q' in word for word in wordlist)\n",
        "# This counts how many words have a q in them\n",
        "print(count_words_with_q)\n",
        "# This will print how many words have a q in them\n",
        "# There are 3624 words in this list with the letter q in them"
      ],
      "metadata": {
        "colab": {
          "base_uri": "https://localhost:8080/"
        },
        "id": "l50Uvvnns_iH",
        "outputId": "3c050d5a-f83c-4516-c99c-4433cd0953c4"
      },
      "execution_count": 52,
      "outputs": [
        {
          "output_type": "stream",
          "name": "stdout",
          "text": [
            "3624\n"
          ]
        }
      ]
    },
    {
      "cell_type": "code",
      "source": [
        "count_words_with_e = sum('e' in word for word in wordlist)\n",
        "# This counts how many words have an e in them\n",
        "1 - (count_words_with_e / len(wordlist))\n",
        "# This does the math to figure out what fraction of words do not have the\n",
        "# letter e in them"
      ],
      "metadata": {
        "colab": {
          "base_uri": "https://localhost:8080/"
        },
        "id": "GetW3cr7tngl",
        "outputId": "55eef897-e0ec-4204-a2d4-9851061bdb4d"
      },
      "execution_count": 53,
      "outputs": [
        {
          "output_type": "execute_result",
          "data": {
            "text/plain": [
              "0.32828321603753463"
            ]
          },
          "metadata": {},
          "execution_count": 53
        }
      ]
    },
    {
      "cell_type": "code",
      "source": [
        "import numpy as np"
      ],
      "metadata": {
        "id": "4YnmNVAkvBKq"
      },
      "execution_count": 54,
      "outputs": []
    },
    {
      "cell_type": "code",
      "source": [
        "wordlistarray = np.array(wordlist)\n",
        "alpha_listarray = np.array(alpha_list)\n",
        "# This is converting my lists to np arrays"
      ],
      "metadata": {
        "id": "iXzp6e4VvUE-"
      },
      "execution_count": 55,
      "outputs": []
    },
    {
      "cell_type": "code",
      "source": [
        "alphabet = [chr(i) for i in range(ord('a'),ord('z')+1)]\n",
        "# This is making a list that is the alphabet"
      ],
      "metadata": {
        "id": "b661T3Eavwv1"
      },
      "execution_count": 56,
      "outputs": []
    },
    {
      "cell_type": "code",
      "source": [
        "!pip install matplotlib\n",
        "# This is installing the matplotlib library"
      ],
      "metadata": {
        "colab": {
          "base_uri": "https://localhost:8080/"
        },
        "id": "sHRc36bawF8f",
        "outputId": "265dff79-4cce-427f-c5d1-227f0b7137aa"
      },
      "execution_count": 57,
      "outputs": [
        {
          "output_type": "stream",
          "name": "stdout",
          "text": [
            "Requirement already satisfied: matplotlib in /usr/local/lib/python3.10/dist-packages (3.7.1)\n",
            "Requirement already satisfied: contourpy>=1.0.1 in /usr/local/lib/python3.10/dist-packages (from matplotlib) (1.2.0)\n",
            "Requirement already satisfied: cycler>=0.10 in /usr/local/lib/python3.10/dist-packages (from matplotlib) (0.12.1)\n",
            "Requirement already satisfied: fonttools>=4.22.0 in /usr/local/lib/python3.10/dist-packages (from matplotlib) (4.49.0)\n",
            "Requirement already satisfied: kiwisolver>=1.0.1 in /usr/local/lib/python3.10/dist-packages (from matplotlib) (1.4.5)\n",
            "Requirement already satisfied: numpy>=1.20 in /usr/local/lib/python3.10/dist-packages (from matplotlib) (1.25.2)\n",
            "Requirement already satisfied: packaging>=20.0 in /usr/local/lib/python3.10/dist-packages (from matplotlib) (23.2)\n",
            "Requirement already satisfied: pillow>=6.2.0 in /usr/local/lib/python3.10/dist-packages (from matplotlib) (9.4.0)\n",
            "Requirement already satisfied: pyparsing>=2.3.1 in /usr/local/lib/python3.10/dist-packages (from matplotlib) (3.1.1)\n",
            "Requirement already satisfied: python-dateutil>=2.7 in /usr/local/lib/python3.10/dist-packages (from matplotlib) (2.8.2)\n",
            "Requirement already satisfied: six>=1.5 in /usr/local/lib/python3.10/dist-packages (from python-dateutil>=2.7->matplotlib) (1.16.0)\n"
          ]
        }
      ]
    },
    {
      "cell_type": "code",
      "source": [
        "import matplotlib.pyplot as plt\n",
        "# This is importing the ability to plot things as plt"
      ],
      "metadata": {
        "id": "tvXF_Kgaw1J7"
      },
      "execution_count": 58,
      "outputs": []
    },
    {
      "cell_type": "code",
      "source": [
        "letter_counts = {}\n",
        "for word in wordlist:\n",
        "    first_letter = word[0]\n",
        "    letter_counts[first_letter] = letter_counts.get(first_letter, 0) + 1\n",
        "    # This is counting the words that start with the first letter"
      ],
      "metadata": {
        "id": "IInT17_WxIqf"
      },
      "execution_count": 59,
      "outputs": []
    },
    {
      "cell_type": "code",
      "source": [
        "letters = list(letter_counts.keys())\n",
        "counts = list(letter_counts.values())\n",
        "# This is assigning the counts and values and things to be able to put on the\n",
        "# graph"
      ],
      "metadata": {
        "id": "dihWIqj0x1b6"
      },
      "execution_count": 60,
      "outputs": []
    },
    {
      "cell_type": "code",
      "source": [
        "letters_sorted = sorted(letters)"
      ],
      "metadata": {
        "id": "F0eHyVpJ1N_6"
      },
      "execution_count": 61,
      "outputs": []
    },
    {
      "cell_type": "code",
      "source": [
        "plt.xlabel('Letters')\n",
        "plt.ylabel('Word Count')\n",
        "plt.title('Word Count by Starting Letter')\n",
        "# This is creating the labels and the title\n",
        "plt.bar(letters_sorted, counts)\n",
        "# This is creating the bar graph"
      ],
      "metadata": {
        "colab": {
          "base_uri": "https://localhost:8080/",
          "height": 490
        },
        "id": "ZJy6s2AgyJKQ",
        "outputId": "1ac8244d-9ebe-43fe-965b-e79a553e18bb"
      },
      "execution_count": 62,
      "outputs": [
        {
          "output_type": "execute_result",
          "data": {
            "text/plain": [
              "<BarContainer object of 26 artists>"
            ]
          },
          "metadata": {},
          "execution_count": 62
        },
        {
          "output_type": "display_data",
          "data": {
            "text/plain": [
              "<Figure size 640x480 with 1 Axes>"
            ],
            "image/png": "[encoded data removed]"
          },
          "metadata": {}
        }
      ]
    },
    {
      "cell_type": "code",
      "source": [
        "sorted_words = sorted(wordlist, key=len, reverse=True)\n",
        "# This sorts the words into length order\n",
        "six_longest_words = sorted_words[:6]\n",
        "# This will give the six longest words\n",
        "print(six_longest_words)\n",
        "# This will print the six longest words"
      ],
      "metadata": {
        "colab": {
          "base_uri": "https://localhost:8080/"
        },
        "id": "tjl0KLLS1z99",
        "outputId": "2201e18b-b7da-4545-bfab-96fd8186bddd"
      },
      "execution_count": 63,
      "outputs": [
        {
          "output_type": "stream",
          "name": "stdout",
          "text": [
            "['antidisestablishmentarianism', 'tetraiodophenolphthalein', 'thyroparathyroidectomize', 'formaldehydesulphoxylate', 'scientificophilosophical', 'pathologicopsychological']\n"
          ]
        }
      ]
    },
    {
      "cell_type": "code",
      "source": [
        "word_lengths = [len(word) for word in wordlist]\n",
        "# This is getting the lengths for the words in the list"
      ],
      "metadata": {
        "id": "aTug3-HH4Une"
      },
      "execution_count": 64,
      "outputs": []
    },
    {
      "cell_type": "code",
      "source": [
        "plt.xlabel('Word Length')\n",
        "plt.ylabel('Frequency')\n",
        "plt.title('Histogram of Word Lengths')\n",
        "# This is adding the labels and the title for the graph\n",
        "plt.hist(word_lengths, bins=range(min(word_lengths), max(word_lengths) + 2), edgecolor='black')\n",
        "# This is plotting the graph\n",
        "# The most common word length is 10 letters"
      ],
      "metadata": {
        "colab": {
          "base_uri": "https://localhost:8080/",
          "height": 651
        },
        "id": "GVjiY3b94m08",
        "outputId": "5c3857b4-1b2b-4066-d041-c108f26594c6"
      },
      "execution_count": 65,
      "outputs": [
        {
          "output_type": "execute_result",
          "data": {
            "text/plain": [
              "(array([2.6000e+01, 1.3900e+02, 1.3000e+03, 5.0060e+03, 9.9790e+03,\n",
              "        1.7468e+04, 2.3723e+04, 2.9851e+04, 3.2294e+04, 3.0828e+04,\n",
              "        2.5968e+04, 2.0453e+04, 1.4925e+04, 9.7630e+03, 5.9230e+03,\n",
              "        3.3760e+03, 1.8140e+03, 8.4200e+02, 4.2800e+02, 1.9800e+02,\n",
              "        8.2000e+01, 4.1000e+01, 1.7000e+01, 5.0000e+00, 0.0000e+00,\n",
              "        0.0000e+00, 0.0000e+00, 1.0000e+00]),\n",
              " array([ 1.,  2.,  3.,  4.,  5.,  6.,  7.,  8.,  9., 10., 11., 12., 13.,\n",
              "        14., 15., 16., 17., 18., 19., 20., 21., 22., 23., 24., 25., 26.,\n",
              "        27., 28., 29.]),\n",
              " <BarContainer object of 28 artists>)"
            ]
          },
          "metadata": {},
          "execution_count": 65
        },
        {
          "output_type": "display_data",
          "data": {
            "text/plain": [
              "<Figure size 640x480 with 1 Axes>"
            ],
            "image/png": "[encoded data removed]"
          },
          "metadata": {}
        }
      ]
    },
    {
      "cell_type": "code",
      "source": [
        "totalCount = 0\n",
        "for word in wordlist:\n",
        "  countA = 0\n",
        "  countV = 0\n",
        "  countCheck = 0\n",
        "\n",
        "  for letter in range(len(word)):\n",
        "    if (word[letter]) == 'a':\n",
        "      countA+=1;\n",
        "    elif (word[letter]) == 'v':\n",
        "      countV+=1;\n",
        "\n",
        "    if(countA >= 1 and countV >= 1 and countCheck == 0):\n",
        "      totalCount+=1\n",
        "      countCheck+=1\n",
        "\n",
        "print(totalCount)\n",
        "# All of this will go through the list and look for the letters a and v in the\n",
        "# words and add up the amount\n",
        "# This took 1.44 seconds to run\n",
        "# The ltters a and v appear in the same word 11347 times"
      ],
      "metadata": {
        "colab": {
          "base_uri": "https://localhost:8080/"
        },
        "id": "GLDbhIADTJMO",
        "outputId": "010c0cd6-9878-4072-ec3f-6a62d431455e"
      },
      "execution_count": 83,
      "outputs": [
        {
          "output_type": "stream",
          "name": "stdout",
          "text": [
            "11347\n"
          ]
        }
      ]
    },
    {
      "cell_type": "code",
      "source": [
        "totalCount = 0\n",
        "for word in wordlist:\n",
        "  countW = 0\n",
        "  countL = 0\n",
        "  countCheck = 0\n",
        "\n",
        "  for letter in range(len(word)):\n",
        "    if (word[letter]) == 'w':\n",
        "      countW+=1;\n",
        "    elif (word[letter]) == 'l':\n",
        "      countL+=1;\n",
        "\n",
        "    if(countW >= 1 and countL >= 1 and countCheck == 0):\n",
        "      totalCount+=1\n",
        "      countCheck+=1\n",
        "\n",
        "print(totalCount)\n",
        "#This took 1.179 seconds to run\n",
        "# The letters w and l appear in the same word 4822 times"
      ],
      "metadata": {
        "colab": {
          "base_uri": "https://localhost:8080/"
        },
        "id": "evxRNuUJerHQ",
        "outputId": "91892248-97f5-4751-bd42-b8ac611b5f20"
      },
      "execution_count": 84,
      "outputs": [
        {
          "output_type": "stream",
          "name": "stdout",
          "text": [
            "4822\n"
          ]
        }
      ]
    }
  ]
}