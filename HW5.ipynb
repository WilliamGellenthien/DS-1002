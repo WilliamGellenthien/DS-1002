{
  "nbformat": 4,
  "nbformat_minor": 0,
  "metadata": {
    "colab": {
      "provenance": [],
      "authorship_tag": "ABX9TyONvNPqn0UjitAZQsAHFT7e",
      "include_colab_link": true
    },
    "kernelspec": {
      "name": "python3",
      "display_name": "Python 3"
    },
    "language_info": {
      "name": "python"
    }
  },
  "cells": [
    {
      "cell_type": "markdown",
      "metadata": {
        "id": "view-in-github",
        "colab_type": "text"
      },
      "source": [
        "<a href=\"https://colab.research.google.com/github/WilliamGellenthien/DS-1002/blob/main/HW5.ipynb\" target=\"_parent\"><img src=\"https://colab.research.google.com/assets/colab-badge.svg\" alt=\"Open In Colab\"/></a>"
      ]
    },
    {
      "cell_type": "code",
      "execution_count": 1,
      "metadata": {
        "colab": {
          "base_uri": "https://localhost:8080/"
        },
        "id": "uJTe4_d_nanY",
        "outputId": "739e981c-611c-459b-cc12-442b317f9f38"
      },
      "outputs": [
        {
          "output_type": "stream",
          "name": "stdout",
          "text": [
            "Collecting english_words\n",
            "  Downloading english-words-2.0.1.tar.gz (8.2 MB)\n",
            "\u001b[2K     \u001b[90m━━━━━━━━━━━━━━━━━━━━━━━━━━━━━━━━━━━━━━━━\u001b[0m \u001b[32m8.2/8.2 MB\u001b[0m \u001b[31m18.6 MB/s\u001b[0m eta \u001b[36m0:00:00\u001b[0m\n",
            "\u001b[?25h  Installing build dependencies ... \u001b[?25l\u001b[?25hdone\n",
            "  Getting requirements to build wheel ... \u001b[?25l\u001b[?25hdone\n",
            "  Preparing metadata (pyproject.toml) ... \u001b[?25l\u001b[?25hdone\n",
            "Building wheels for collected packages: english_words\n",
            "  Building wheel for english_words (pyproject.toml) ... \u001b[?25l\u001b[?25hdone\n",
            "  Created wheel for english_words: filename=english_words-2.0.1-py3-none-any.whl size=8196238 sha256=e194d9a8e3c540d6ba6935f1ae684a1597b09fda356a5f82e45d554cfb4955ba\n",
            "  Stored in directory: /root/.cache/pip/wheels/f0/e6/d9/16a123647999fe535f03a36e7af23eef203736d84c7ca25b0b\n",
            "Successfully built english_words\n",
            "Installing collected packages: english_words\n",
            "Successfully installed english_words-2.0.1\n"
          ]
        }
      ],
      "source": [
        "!pip install english_words\n",
        "from english_words import get_english_words_set\n",
        "words = get_english_words_set(['web2'], lower=True)"
      ]
    },
    {
      "cell_type": "code",
      "source": [
        "type(words)\n",
        "# the data is currently a set variable"
      ],
      "metadata": {
        "colab": {
          "base_uri": "https://localhost:8080/"
        },
        "id": "lAOTjtxVoLvC",
        "outputId": "bdc0ef88-33d3-42b7-99d6-607de89f60e1"
      },
      "execution_count": 4,
      "outputs": [
        {
          "output_type": "execute_result",
          "data": {
            "text/plain": [
              "set"
            ]
          },
          "metadata": {},
          "execution_count": 4
        }
      ]
    },
    {
      "cell_type": "code",
      "source": [
        "wordlist = list(words)\n",
        "# this changes it into a list"
      ],
      "metadata": {
        "id": "ZdHS69MEpRWc"
      },
      "execution_count": 13,
      "outputs": []
    },
    {
      "cell_type": "code",
      "source": [
        "len(wordlist)\n",
        "# This prints out the length of the list.  The list is 234450 words long"
      ],
      "metadata": {
        "colab": {
          "base_uri": "https://localhost:8080/"
        },
        "id": "O4ewzNavqb5k",
        "outputId": "e9426373-4889-49d1-9a9d-28905cdb8446"
      },
      "execution_count": 14,
      "outputs": [
        {
          "output_type": "execute_result",
          "data": {
            "text/plain": [
              "234450"
            ]
          },
          "metadata": {},
          "execution_count": 14
        }
      ]
    },
    {
      "cell_type": "code",
      "source": [
        "print(wordlist[:10])\n",
        "# this prints the first 10 words in the list\n",
        "# the words are seemingly random"
      ],
      "metadata": {
        "colab": {
          "base_uri": "https://localhost:8080/"
        },
        "id": "V4eZubWNp2i4",
        "outputId": "4cdeb20a-fdee-49d0-91aa-6c9bd7fdbba9"
      },
      "execution_count": 15,
      "outputs": [
        {
          "output_type": "stream",
          "name": "stdout",
          "text": [
            "['nonsignatory', 'bando', 'talpoid', 'eroticize', 'sess', 'stumpless', 'scarebabe', 'metempsychosal', 'depreciator', 'owlishly']\n"
          ]
        }
      ]
    },
    {
      "cell_type": "code",
      "source": [
        "alpha_list = sorted(wordlist)\n",
        "# This sorts the words alphabetically\n",
        "print(alpha_list[:10])\n",
        "# this prints the first 10 terms of the alpha_list list"
      ],
      "metadata": {
        "colab": {
          "base_uri": "https://localhost:8080/"
        },
        "id": "s65mUJevquU7",
        "outputId": "6d2bce7c-ea58-4869-c171-a5327bcea082"
      },
      "execution_count": 18,
      "outputs": [
        {
          "output_type": "stream",
          "name": "stdout",
          "text": [
            "['a', 'aa', 'aal', 'aalii', 'aam', 'aani', 'aardvark', 'aardwolf', 'aaron', 'aaronic']\n"
          ]
        }
      ]
    },
    {
      "cell_type": "code",
      "source": [
        "count_words_starting_with_a = sum(word.startswith('a') for word in wordlist)\n",
        "# This counts the words\n",
        "print(count_words_starting_with_a)\n",
        "# This prints out how many start with a\n",
        "# There are 16982 words that start with a"
      ],
      "metadata": {
        "colab": {
          "base_uri": "https://localhost:8080/"
        },
        "id": "dt-lMWp_sloA",
        "outputId": "b24a2784-ea1b-4b1f-acf0-13daa643b87a"
      },
      "execution_count": 23,
      "outputs": [
        {
          "output_type": "stream",
          "name": "stdout",
          "text": [
            "16982\n"
          ]
        }
      ]
    },
    {
      "cell_type": "code",
      "source": [
        "count_words_with_q = sum('q' in word for word in wordlist)\n",
        "# This counts how many words have a q in them\n",
        "print(count_words_with_q)\n",
        "# This will print how many words have a q in them\n",
        "# There are 3624 words in this list with the letter q in them"
      ],
      "metadata": {
        "colab": {
          "base_uri": "https://localhost:8080/"
        },
        "id": "l50Uvvnns_iH",
        "outputId": "b5720900-06b6-439f-d1b2-82bd549e99b0"
      },
      "execution_count": 25,
      "outputs": [
        {
          "output_type": "stream",
          "name": "stdout",
          "text": [
            "3624\n"
          ]
        }
      ]
    },
    {
      "cell_type": "code",
      "source": [
        "count_words_with_e = sum('e' in word for word in wordlist)\n",
        "# This counts how many words have an e in them\n",
        "1 - (count_words_with_e / len(wordlist))\n",
        "# This does the math to figure out what fraction of words do not have the\n",
        "# letter e in them"
      ],
      "metadata": {
        "colab": {
          "base_uri": "https://localhost:8080/"
        },
        "id": "GetW3cr7tngl",
        "outputId": "66d74b3d-f6f2-4b21-ddfe-e96e01fc0bd6"
      },
      "execution_count": 30,
      "outputs": [
        {
          "output_type": "execute_result",
          "data": {
            "text/plain": [
              "0.32828321603753463"
            ]
          },
          "metadata": {},
          "execution_count": 30
        }
      ]
    },
    {
      "cell_type": "code",
      "source": [
        "import numpy as np"
      ],
      "metadata": {
        "id": "4YnmNVAkvBKq"
      },
      "execution_count": 31,
      "outputs": []
    },
    {
      "cell_type": "code",
      "source": [
        "wordlistarray = np.array(wordlist)\n",
        "alpha_listarray = np.array(alpha_list)\n",
        "# This is converting my lists to np arrays"
      ],
      "metadata": {
        "id": "iXzp6e4VvUE-"
      },
      "execution_count": 35,
      "outputs": []
    },
    {
      "cell_type": "code",
      "source": [
        "alphabet = [chr(i) for i in range(ord('a'),ord('z')+1)]\n",
        "# This is making a list that is the alphabet"
      ],
      "metadata": {
        "id": "b661T3Eavwv1"
      },
      "execution_count": 36,
      "outputs": []
    },
    {
      "cell_type": "code",
      "source": [
        "pip install matplotlib\n",
        "# This is installilng the matplotlib ability"
      ],
      "metadata": {
        "colab": {
          "base_uri": "https://localhost:8080/"
        },
        "id": "sHRc36bawF8f",
        "outputId": "56babe08-9252-461a-f2f8-a24e2122e874"
      },
      "execution_count": 37,
      "outputs": [
        {
          "output_type": "stream",
          "name": "stdout",
          "text": [
            "Requirement already satisfied: matplotlib in /usr/local/lib/python3.10/dist-packages (3.7.1)\n",
            "Requirement already satisfied: contourpy>=1.0.1 in /usr/local/lib/python3.10/dist-packages (from matplotlib) (1.2.0)\n",
            "Requirement already satisfied: cycler>=0.10 in /usr/local/lib/python3.10/dist-packages (from matplotlib) (0.12.1)\n",
            "Requirement already satisfied: fonttools>=4.22.0 in /usr/local/lib/python3.10/dist-packages (from matplotlib) (4.49.0)\n",
            "Requirement already satisfied: kiwisolver>=1.0.1 in /usr/local/lib/python3.10/dist-packages (from matplotlib) (1.4.5)\n",
            "Requirement already satisfied: numpy>=1.20 in /usr/local/lib/python3.10/dist-packages (from matplotlib) (1.25.2)\n",
            "Requirement already satisfied: packaging>=20.0 in /usr/local/lib/python3.10/dist-packages (from matplotlib) (23.2)\n",
            "Requirement already satisfied: pillow>=6.2.0 in /usr/local/lib/python3.10/dist-packages (from matplotlib) (9.4.0)\n",
            "Requirement already satisfied: pyparsing>=2.3.1 in /usr/local/lib/python3.10/dist-packages (from matplotlib) (3.1.1)\n",
            "Requirement already satisfied: python-dateutil>=2.7 in /usr/local/lib/python3.10/dist-packages (from matplotlib) (2.8.2)\n",
            "Requirement already satisfied: six>=1.5 in /usr/local/lib/python3.10/dist-packages (from python-dateutil>=2.7->matplotlib) (1.16.0)\n"
          ]
        }
      ]
    },
    {
      "cell_type": "code",
      "source": [
        "import matplotlib.pyplot as plt\n",
        "# This is importing the ability to plot things as plt"
      ],
      "metadata": {
        "id": "tvXF_Kgaw1J7"
      },
      "execution_count": 39,
      "outputs": []
    },
    {
      "cell_type": "code",
      "source": [
        "letter_counts = {}\n",
        "for word in word_list:\n",
        "    first_letter = word[0]\n",
        "    letter_counts[first_letter] = letter_counts.get(first_letter, 0) + 1\n",
        "    # This is counting the words that start with the first letter"
      ],
      "metadata": {
        "id": "IInT17_WxIqf"
      },
      "execution_count": 43,
      "outputs": []
    },
    {
      "cell_type": "code",
      "source": [
        "letters = list(letter_counts.keys())\n",
        "counts = list(letter_counts.values())\n",
        "# This is assigning the counts and values and things to be able to put on the\n",
        "# graph"
      ],
      "metadata": {
        "id": "dihWIqj0x1b6"
      },
      "execution_count": 44,
      "outputs": []
    },
    {
      "cell_type": "code",
      "source": [
        "letters_sorted = sorted(letters)"
      ],
      "metadata": {
        "id": "F0eHyVpJ1N_6"
      },
      "execution_count": 50,
      "outputs": []
    },
    {
      "cell_type": "code",
      "source": [
        "plt.xlabel('Letters')\n",
        "plt.ylabel('Word Count')\n",
        "plt.title('Word Count by Starting Letter')\n",
        "# This is creating the labels and the title\n",
        "plt.bar(letters_sorted, counts)\n",
        "# This is creating the bar graph"
      ],
      "metadata": {
        "colab": {
          "base_uri": "https://localhost:8080/",
          "height": 490
        },
        "id": "ZJy6s2AgyJKQ",
        "outputId": "71f47915-0e53-4f7d-edf9-d0022677a66c"
      },
      "execution_count": 51,
      "outputs": [
        {
          "output_type": "execute_result",
          "data": {
            "text/plain": [
              "<BarContainer object of 26 artists>"
            ]
          },
          "metadata": {},
          "execution_count": 51
        },
        {
          "output_type": "display_data",
          "data": {
            "text/plain": [
              "<Figure size 640x480 with 1 Axes>"
            ],
            "image/png": "[encoded data removed]"
          },
          "metadata": {}
        }
      ]
    },
    {
      "cell_type": "code",
      "source": [
        "sorted_words = sorted(wordlist, key=len, reverse=True)\n",
        "# This sorts the words into length order\n",
        "six_longest_words = sorted_words[:6]\n",
        "# This will give the six longest words\n",
        "print(six_longest_words)\n",
        "# This will print the six longest words"
      ],
      "metadata": {
        "colab": {
          "base_uri": "https://localhost:8080/"
        },
        "id": "tjl0KLLS1z99",
        "outputId": "9bc7bbe7-0b0b-4823-f1e6-3d7b0867fd59"
      },
      "execution_count": 53,
      "outputs": [
        {
          "output_type": "stream",
          "name": "stdout",
          "text": [
            "['antidisestablishmentarianism', 'tetraiodophenolphthalein', 'thyroparathyroidectomize', 'scientificophilosophical', 'formaldehydesulphoxylate', 'pathologicopsychological']\n"
          ]
        }
      ]
    },
    {
      "cell_type": "code",
      "source": [
        "word_lengths = [len(word) for word in wordlist]\n",
        "# This is getting the lengths for the words in the list"
      ],
      "metadata": {
        "id": "aTug3-HH4Une"
      },
      "execution_count": 55,
      "outputs": []
    },
    {
      "cell_type": "code",
      "source": [
        "plt.xlabel('Word Length')\n",
        "plt.ylabel('Frequency')\n",
        "plt.title('Histogram of Word Lengths')\n",
        "# This is adding the labels and the title for the graph\n",
        "plt.hist(word_lengths, bins=range(min(word_lengths), max(word_lengths) + 2), edgecolor='black')\n",
        "# This is plotting the graph\n",
        "# The most common word length is 10 letters"
      ],
      "metadata": {
        "colab": {
          "base_uri": "https://localhost:8080/",
          "height": 651
        },
        "id": "GVjiY3b94m08",
        "outputId": "1af7f3a6-94f9-4ea2-c862-04615457be5c"
      },
      "execution_count": 56,
      "outputs": [
        {
          "output_type": "execute_result",
          "data": {
            "text/plain": [
              "(array([2.6000e+01, 1.3900e+02, 1.3000e+03, 5.0060e+03, 9.9790e+03,\n",
              "        1.7468e+04, 2.3723e+04, 2.9851e+04, 3.2294e+04, 3.0828e+04,\n",
              "        2.5968e+04, 2.0453e+04, 1.4925e+04, 9.7630e+03, 5.9230e+03,\n",
              "        3.3760e+03, 1.8140e+03, 8.4200e+02, 4.2800e+02, 1.9800e+02,\n",
              "        8.2000e+01, 4.1000e+01, 1.7000e+01, 5.0000e+00, 0.0000e+00,\n",
              "        0.0000e+00, 0.0000e+00, 1.0000e+00]),\n",
              " array([ 1.,  2.,  3.,  4.,  5.,  6.,  7.,  8.,  9., 10., 11., 12., 13.,\n",
              "        14., 15., 16., 17., 18., 19., 20., 21., 22., 23., 24., 25., 26.,\n",
              "        27., 28., 29.]),\n",
              " <BarContainer object of 28 artists>)"
            ]
          },
          "metadata": {},
          "execution_count": 56
        },
        {
          "output_type": "display_data",
          "data": {
            "text/plain": [
              "<Figure size 640x480 with 1 Axes>"
            ],
            "image/png": "[encoded data removed]"
          },
          "metadata": {}
        }
      ]
    }
  ]
}