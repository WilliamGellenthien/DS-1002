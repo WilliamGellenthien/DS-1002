{
  "cells": [
    {
      "cell_type": "markdown",
      "metadata": {
        "id": "view-in-github",
        "colab_type": "text"
      },
      "source": [
        "<a href=\"https://colab.research.google.com/github/WilliamGellenthien/DS-1002/blob/main/Gellenthien_HW06_Pandas_exercises.ipynb\" target=\"_parent\"><img src=\"https://colab.research.google.com/assets/colab-badge.svg\" alt=\"Open In Colab\"/></a>"
      ]
    },
    {
      "cell_type": "markdown",
      "metadata": {
        "id": "L_nKffgWPs-1"
      },
      "source": [
        "## Pandas exercises 1\n",
        "\n",
        "1. Import dependencies"
      ]
    },
    {
      "cell_type": "code",
      "execution_count": 2,
      "metadata": {
        "id": "hASl6yoNPs-2"
      },
      "outputs": [],
      "source": [
        "import pandas as pd"
      ]
    },
    {
      "cell_type": "markdown",
      "metadata": {
        "id": "33KUt_fEPs-2"
      },
      "source": [
        "---"
      ]
    },
    {
      "cell_type": "code",
      "execution_count": 3,
      "metadata": {
        "id": "ZZmr1aIoPs-3"
      },
      "outputs": [],
      "source": [
        "list = [98, 24, 46, 87, 33]"
      ]
    },
    {
      "cell_type": "markdown",
      "metadata": {
        "id": "jGSEPEqXPs-3"
      },
      "source": [
        "2. Convert `list` to a pandas series using `pd.Series`"
      ]
    },
    {
      "cell_type": "code",
      "execution_count": 4,
      "metadata": {
        "id": "nZ1y9HF6Ps-3"
      },
      "outputs": [],
      "source": [
        "series = pd.Series(list)"
      ]
    },
    {
      "cell_type": "markdown",
      "metadata": {
        "id": "rORNi5YyPs-4"
      },
      "source": [
        "3. Take the above series and add an index that starts at 2 and steps by 3"
      ]
    },
    {
      "cell_type": "code",
      "execution_count": 5,
      "metadata": {
        "id": "YC8f3lAMPs-4"
      },
      "outputs": [],
      "source": [
        "custom_index = range(2, 2 + len(list) * 3, 3)\n",
        "series_with_custom_index = pd.Series(list, index=custom_index)"
      ]
    },
    {
      "cell_type": "markdown",
      "metadata": {
        "id": "2P199KkwPs-4"
      },
      "source": [
        "4. Create a dictionary of 4 names, ages, and careers   \n",
        "Convert this dictionary to a pandas dataframe: `df`.  \n",
        "Print the dataframe."
      ]
    },
    {
      "cell_type": "code",
      "execution_count": 6,
      "metadata": {
        "id": "lWoGNi5hPs-5",
        "colab": {
          "base_uri": "https://localhost:8080/"
        },
        "outputId": "b90b2000-c11f-4b7d-bb80-038e0a1ccbcc"
      },
      "outputs": [
        {
          "output_type": "stream",
          "name": "stdout",
          "text": [
            "    Name  Age   Career\n",
            "0   Bill   34   Cowboy\n",
            "1   TTom   57   Lawyer\n",
            "2  Julie   56  Teacher\n",
            "3   Izzy   78   Doctor\n"
          ]
        }
      ],
      "source": [
        "data = {\n",
        "    'Name': ['Bill', 'TTom', 'Julie', 'Izzy'],\n",
        "    'Age': [34, 57, 56, 78],\n",
        "    'Career': ['Cowboy', 'Lawyer', 'Teacher', 'Doctor']\n",
        "}\n",
        "df = pd.DataFrame(data)\n",
        "print(df)"
      ]
    },
    {
      "cell_type": "markdown",
      "metadata": {
        "id": "TD-Ej1K_Ps-5"
      },
      "source": [
        "5. Name the index of `df` 'participant_id'.  \n",
        "Print `df`."
      ]
    },
    {
      "cell_type": "code",
      "execution_count": 7,
      "metadata": {
        "id": "_54NO6pRPs-5",
        "colab": {
          "base_uri": "https://localhost:8080/"
        },
        "outputId": "a5b9e0f0-1f45-433a-ca53-7f00c7a1a616"
      },
      "outputs": [
        {
          "output_type": "stream",
          "name": "stdout",
          "text": [
            "                 Name  Age   Career\n",
            "participant_id                     \n",
            "0                Bill   34   Cowboy\n",
            "1                TTom   57   Lawyer\n",
            "2               Julie   56  Teacher\n",
            "3                Izzy   78   Doctor\n"
          ]
        }
      ],
      "source": [
        "df = df.rename_axis('participant_id')\n",
        "print(df)"
      ]
    },
    {
      "cell_type": "markdown",
      "metadata": {
        "id": "-JXKN55IPs-5"
      },
      "source": [
        "6. Use a pandas function to determine the data types of the columns of `df`."
      ]
    },
    {
      "cell_type": "code",
      "execution_count": 8,
      "metadata": {
        "id": "pmbPdPYmPs-5",
        "colab": {
          "base_uri": "https://localhost:8080/"
        },
        "outputId": "913e71d5-5385-48db-e7a4-e5fa66f7640c"
      },
      "outputs": [
        {
          "output_type": "stream",
          "name": "stdout",
          "text": [
            "Name      object\n",
            "Age        int64\n",
            "Career    object\n",
            "dtype: object\n"
          ]
        }
      ],
      "source": [
        "column_data_types = df.dtypes\n",
        "print(column_data_types)"
      ]
    },
    {
      "cell_type": "markdown",
      "metadata": {
        "id": "67Yv1vrcPs-5"
      },
      "source": [
        "7. Using bracket notation, reference column `name`"
      ]
    },
    {
      "cell_type": "code",
      "execution_count": 9,
      "metadata": {
        "id": "KvYDyocgPs-6",
        "colab": {
          "base_uri": "https://localhost:8080/"
        },
        "outputId": "a0645457-d04b-4e4a-f752-a976fc83b9cc"
      },
      "outputs": [
        {
          "output_type": "stream",
          "name": "stdout",
          "text": [
            "participant_id\n",
            "0     Bill\n",
            "1     TTom\n",
            "2    Julie\n",
            "3     Izzy\n",
            "Name: Name, dtype: object\n"
          ]
        }
      ],
      "source": [
        "name_column = df['Name']\n",
        "print(name_column)"
      ]
    },
    {
      "cell_type": "markdown",
      "metadata": {
        "id": "m3cxo1_DPs-6"
      },
      "source": [
        "8. Using dot notation, reference column `name`"
      ]
    },
    {
      "cell_type": "code",
      "execution_count": 10,
      "metadata": {
        "id": "1GWDNZpDPs-6",
        "colab": {
          "base_uri": "https://localhost:8080/"
        },
        "outputId": "9f35f724-1892-488d-b996-cb0303956795"
      },
      "outputs": [
        {
          "output_type": "stream",
          "name": "stdout",
          "text": [
            "participant_id\n",
            "0     Bill\n",
            "1     TTom\n",
            "2    Julie\n",
            "3     Izzy\n",
            "Name: Name, dtype: object\n"
          ]
        }
      ],
      "source": [
        "name_column = df.Name\n",
        "print(name_column)"
      ]
    },
    {
      "cell_type": "markdown",
      "metadata": {
        "id": "QXcydAo-Ps-6"
      },
      "source": [
        "8. Reference column `name` and have it returned in a dataframe."
      ]
    },
    {
      "cell_type": "code",
      "execution_count": 11,
      "metadata": {
        "id": "Es6jw5eKPs-6",
        "colab": {
          "base_uri": "https://localhost:8080/"
        },
        "outputId": "80622d70-61af-48ac-afe9-4e599e6a308b"
      },
      "outputs": [
        {
          "output_type": "stream",
          "name": "stdout",
          "text": [
            "                 Name\n",
            "participant_id       \n",
            "0                Bill\n",
            "1                TTom\n",
            "2               Julie\n",
            "3                Izzy\n"
          ]
        }
      ],
      "source": [
        "name_df = df[['Name']]\n",
        "print(name_df)"
      ]
    },
    {
      "cell_type": "markdown",
      "metadata": {
        "id": "FGvwXkmsPs-6"
      },
      "source": [
        "9. Show the 3rd element in column `career`."
      ]
    },
    {
      "cell_type": "code",
      "execution_count": 12,
      "metadata": {
        "id": "9DFRMXJ-Ps-6",
        "colab": {
          "base_uri": "https://localhost:8080/"
        },
        "outputId": "f56ab6f9-a43e-41c3-ca4d-601e30030c81"
      },
      "outputs": [
        {
          "output_type": "stream",
          "name": "stdout",
          "text": [
            "Teacher\n"
          ]
        }
      ],
      "source": [
        "third_career = df['Career'].iloc[2]\n",
        "print(third_career)"
      ]
    },
    {
      "cell_type": "markdown",
      "source": [
        "10.  Load the `iris` dataset that we used in class.  Use `iris` as the name of your data frame."
      ],
      "metadata": {
        "id": "rRH599bKtjbE"
      }
    },
    {
      "cell_type": "code",
      "source": [
        "!pip3 install seaborn\n",
        "import seaborn as sns\n",
        "from sklearn.datasets import load_iris\n",
        "iris_data = load_iris()\n",
        "iris = pd.DataFrame(data=iris_data.data, columns=iris_data.feature_names)"
      ],
      "metadata": {
        "colab": {
          "base_uri": "https://localhost:8080/"
        },
        "id": "CmA6aWpLQVpX",
        "outputId": "bf7a34b7-a57e-4e88-889a-8345b13a8ee1"
      },
      "execution_count": 13,
      "outputs": [
        {
          "output_type": "stream",
          "name": "stdout",
          "text": [
            "Requirement already satisfied: seaborn in /usr/local/lib/python3.10/dist-packages (0.13.1)\n",
            "Requirement already satisfied: numpy!=1.24.0,>=1.20 in /usr/local/lib/python3.10/dist-packages (from seaborn) (1.25.2)\n",
            "Requirement already satisfied: pandas>=1.2 in /usr/local/lib/python3.10/dist-packages (from seaborn) (1.5.3)\n",
            "Requirement already satisfied: matplotlib!=3.6.1,>=3.4 in /usr/local/lib/python3.10/dist-packages (from seaborn) (3.7.1)\n",
            "Requirement already satisfied: contourpy>=1.0.1 in /usr/local/lib/python3.10/dist-packages (from matplotlib!=3.6.1,>=3.4->seaborn) (1.2.0)\n",
            "Requirement already satisfied: cycler>=0.10 in /usr/local/lib/python3.10/dist-packages (from matplotlib!=3.6.1,>=3.4->seaborn) (0.12.1)\n",
            "Requirement already satisfied: fonttools>=4.22.0 in /usr/local/lib/python3.10/dist-packages (from matplotlib!=3.6.1,>=3.4->seaborn) (4.49.0)\n",
            "Requirement already satisfied: kiwisolver>=1.0.1 in /usr/local/lib/python3.10/dist-packages (from matplotlib!=3.6.1,>=3.4->seaborn) (1.4.5)\n",
            "Requirement already satisfied: packaging>=20.0 in /usr/local/lib/python3.10/dist-packages (from matplotlib!=3.6.1,>=3.4->seaborn) (24.0)\n",
            "Requirement already satisfied: pillow>=6.2.0 in /usr/local/lib/python3.10/dist-packages (from matplotlib!=3.6.1,>=3.4->seaborn) (9.4.0)\n",
            "Requirement already satisfied: pyparsing>=2.3.1 in /usr/local/lib/python3.10/dist-packages (from matplotlib!=3.6.1,>=3.4->seaborn) (3.1.2)\n",
            "Requirement already satisfied: python-dateutil>=2.7 in /usr/local/lib/python3.10/dist-packages (from matplotlib!=3.6.1,>=3.4->seaborn) (2.8.2)\n",
            "Requirement already satisfied: pytz>=2020.1 in /usr/local/lib/python3.10/dist-packages (from pandas>=1.2->seaborn) (2023.4)\n",
            "Requirement already satisfied: six>=1.5 in /usr/local/lib/python3.10/dist-packages (from python-dateutil>=2.7->matplotlib!=3.6.1,>=3.4->seaborn) (1.16.0)\n"
          ]
        }
      ]
    },
    {
      "cell_type": "markdown",
      "source": [
        "11.  What is the correlation between the variables `sepal_length` and `sepal_width` for all the irises?"
      ],
      "metadata": {
        "id": "AKz6-jVWtvSB"
      }
    },
    {
      "cell_type": "code",
      "source": [
        "correlation = iris['sepal length (cm)'].corr(iris['sepal width (cm)'])\n",
        "print(\"Correlation between sepal_length and sepal_width:\", correlation)"
      ],
      "metadata": {
        "id": "hee42cCiuUaQ",
        "colab": {
          "base_uri": "https://localhost:8080/"
        },
        "outputId": "f9ac5c29-8341-4b74-f101-e189251bc664"
      },
      "execution_count": 14,
      "outputs": [
        {
          "output_type": "stream",
          "name": "stdout",
          "text": [
            "Correlation between sepal_length and sepal_width: -0.11756978413300208\n"
          ]
        }
      ]
    },
    {
      "cell_type": "markdown",
      "source": [
        "12.  Which of the three species has the highest correlation between `sepal_length` and `sepal_width`?  Show any calculations you use to support your answer."
      ],
      "metadata": {
        "id": "0FftiYs-uU0S"
      }
    },
    {
      "cell_type": "code",
      "source": [
        "iris.index = iris_data.target\n",
        "chosen_species = 0  # Change this to the species you're interested in\n",
        "\n",
        "species_data = iris.loc[chosen_species]\n",
        "\n",
        "if species_data.empty:\n",
        "    print(f\"No data found for species {chosen_species}.\")\n",
        "else:\n",
        "    correlation = species_data['sepal length (cm)'].corr(species_data['sepal width (cm)'])\n",
        "    print(f\"The correlation between sepal_length and sepal_width for species {chosen_species} is {correlation:.2f}.\")\n",
        "\n",
        "#The correlation between sepal_length and sepal_width for species 0 is 0.74\n"
      ],
      "metadata": {
        "colab": {
          "base_uri": "https://localhost:8080/"
        },
        "id": "zUm6t8syAQB2",
        "outputId": "39eb5dcf-c196-4299-fbef-98fc2a9cb851"
      },
      "execution_count": 15,
      "outputs": [
        {
          "output_type": "stream",
          "name": "stdout",
          "text": [
            "The correlation between sepal_length and sepal_width for species 0 is 0.74.\n"
          ]
        }
      ]
    },
    {
      "cell_type": "code",
      "source": [
        "chosen_species = 1  # Change this to the species you're interested in\n",
        "\n",
        "species_data = iris.loc[chosen_species]\n",
        "\n",
        "if species_data.empty:\n",
        "    print(f\"No data found for species {chosen_species}.\")\n",
        "else:\n",
        "    correlation = species_data['sepal length (cm)'].corr(species_data['sepal width (cm)'])\n",
        "    print(f\"The correlation between sepal_length and sepal_width for species {chosen_species} is {correlation:.2f}.\")\n",
        "\n",
        "#The correlation between sepal_length and sepal_width for species 1 is 0.53"
      ],
      "metadata": {
        "colab": {
          "base_uri": "https://localhost:8080/"
        },
        "id": "CBv1--8AAyxb",
        "outputId": "53d77742-10a7-495c-a896-7fae5ec5e925"
      },
      "execution_count": 16,
      "outputs": [
        {
          "output_type": "stream",
          "name": "stdout",
          "text": [
            "The correlation between sepal_length and sepal_width for species 1 is 0.53.\n"
          ]
        }
      ]
    },
    {
      "cell_type": "code",
      "source": [
        "chosen_species = 2  # Change this to the species you're interested in\n",
        "\n",
        "species_data = iris.loc[chosen_species]\n",
        "\n",
        "if species_data.empty:\n",
        "    print(f\"No data found for species {chosen_species}.\")\n",
        "else:\n",
        "    correlation = species_data['sepal length (cm)'].corr(species_data['sepal width (cm)'])\n",
        "    print(f\"The correlation between sepal_length and sepal_width for species {chosen_species} is {correlation:.2f}.\")\n",
        "\n",
        "#The correlation between sepal_length and sepal_width for species 2 is 0.46"
      ],
      "metadata": {
        "colab": {
          "base_uri": "https://localhost:8080/"
        },
        "id": "bQ45C3nmA3xW",
        "outputId": "a4d696e0-e6d1-476a-b712-5ff996762b35"
      },
      "execution_count": 17,
      "outputs": [
        {
          "output_type": "stream",
          "name": "stdout",
          "text": [
            "The correlation between sepal_length and sepal_width for species 2 is 0.46.\n"
          ]
        }
      ]
    },
    {
      "cell_type": "markdown",
      "source": [
        "The species that corresponds with the number 0 has the highest correlation bewteen sepal_lenght and sepal_width."
      ],
      "metadata": {
        "id": "P1i6D11gCGA8"
      }
    },
    {
      "cell_type": "markdown",
      "source": [
        "13.  Among the four variables, the two that are most negatively correlated (overall) are `sepal_width` and `petal_length`.  (How do we know this?)  Determine the same thing but for each species separately:  for each species, which two variables have the most negative (or the least positive) correlation?  Again, include calculations to support your answer."
      ],
      "metadata": {
        "id": "ZEwy0920u1NY"
      }
    },
    {
      "cell_type": "code",
      "source": [
        "#Setosa\n",
        "iris[[\"sepal length (cm)\",\"sepal width (cm)\",\"petal length (cm)\",\"petal width (cm)\"]].iloc[:50].corr().min()\n",
        "# sepal width x pedal length\n",
        "\n",
        "#Versicolor\n",
        "iris[[\"sepal length (cm)\",\"sepal width (cm)\",\"petal length (cm)\",\"petal width (cm)\"]].iloc[50:100].corr().min()\n",
        "# sepal length x sepal width\n",
        "\n",
        "#Verginica\n",
        "iris[[\"sepal length (cm)\",\"sepal width (cm)\",\"petal length (cm)\",\"petal width (cm)\"]].iloc[100:].corr().min()\n",
        "# sepal length x petal width"
      ],
      "metadata": {
        "colab": {
          "base_uri": "https://localhost:8080/"
        },
        "id": "NIusi26dGGZV",
        "outputId": "85d854d2-8ff7-4c7d-aed9-d7987097c827"
      },
      "execution_count": 23,
      "outputs": [
        {
          "output_type": "execute_result",
          "data": {
            "text/plain": [
              "sepal length (cm)    0.281108\n",
              "sepal width (cm)     0.401045\n",
              "petal length (cm)    0.322108\n",
              "petal width (cm)     0.281108\n",
              "dtype: float64"
            ]
          },
          "metadata": {},
          "execution_count": 23
        }
      ]
    },
    {
      "cell_type": "code",
      "source": [
        "# Print the column names of the iris DataFrame\n",
        "print(iris.columns)\n"
      ],
      "metadata": {
        "colab": {
          "base_uri": "https://localhost:8080/"
        },
        "id": "PRntXJQIHHbl",
        "outputId": "262a7b2a-135e-44c7-e79d-2f390f24f259"
      },
      "execution_count": 20,
      "outputs": [
        {
          "output_type": "stream",
          "name": "stdout",
          "text": [
            "Index(['sepal length (cm)', 'sepal width (cm)', 'petal length (cm)',\n",
            "       'petal width (cm)'],\n",
            "      dtype='object')\n"
          ]
        }
      ]
    },
    {
      "cell_type": "markdown",
      "source": [
        "14.  Once again, the variables `sepal_width` and `petal_length` are negatively correlated.  But for each individual species, these two variables are positively correlated.  How is this possible?  Explain this phenomenon.  Use a data visualization if it helps.\n"
      ],
      "metadata": {
        "id": "cK_OhSaRvxhE"
      }
    },
    {
      "cell_type": "code",
      "source": [
        "#The different species have their own characteristics that could affect the data in certain ways\n",
        "#Like a certain species of flower could have a larger sepal and less wide petals than another\n",
        "#So overall correlation cannot be consistent with every species"
      ],
      "metadata": {
        "id": "H4_QQDWHwJ3t"
      },
      "execution_count": null,
      "outputs": []
    }
  ],
  "metadata": {
    "kernelspec": {
      "display_name": "Python 3.8.9 64-bit",
      "language": "python",
      "name": "python3"
    },
    "language_info": {
      "codemirror_mode": {
        "name": "ipython",
        "version": 3
      },
      "file_extension": ".py",
      "mimetype": "text/x-python",
      "name": "python",
      "nbconvert_exporter": "python",
      "pygments_lexer": "ipython3",
      "version": "3.8.9"
    },
    "orig_nbformat": 4,
    "vscode": {
      "interpreter": {
        "hash": "31f2aee4e71d21fbe5cf8b01ff0e069b9275f58929596ceb00d14d90e3e16cd6"
      }
    },
    "colab": {
      "provenance": [],
      "include_colab_link": true
    }
  },
  "nbformat": 4,
  "nbformat_minor": 0
}