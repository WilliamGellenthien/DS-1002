{
  "nbformat": 4,
  "nbformat_minor": 0,
  "metadata": {
    "colab": {
      "provenance": [],
      "authorship_tag": "ABX9TyOx6qT99f60LN4nZW+WymPm",
      "include_colab_link": true
    },
    "kernelspec": {
      "name": "python3",
      "display_name": "Python 3"
    },
    "language_info": {
      "name": "python"
    }
  },
  "cells": [
    {
      "cell_type": "markdown",
      "metadata": {
        "id": "view-in-github",
        "colab_type": "text"
      },
      "source": [
        "<a href=\"https://colab.research.google.com/github/WilliamGellenthien/DS-1002/blob/main/PrgAssignmentDue2_12.ipynb\" target=\"_parent\"><img src=\"https://colab.research.google.com/assets/colab-badge.svg\" alt=\"Open In Colab\"/></a>"
      ]
    },
    {
      "cell_type": "code",
      "execution_count": 38,
      "metadata": {
        "colab": {
          "base_uri": "https://localhost:8080/"
        },
        "id": "7ICivSdAs0HL",
        "outputId": "26793725-448c-4550-dc18-7c02e9824b03"
      },
      "outputs": [
        {
          "output_type": "stream",
          "name": "stdout",
          "text": [
            "The aim of this game is to guess the randomly generate integer between 0 and 100 that the computer generates\n",
            "The computer has chosen its number\n",
            "Please enter your integer guess (in digit form): 67\n",
            "Too low\n",
            "Please enter your integer guess: 90\n",
            "Congratulations, you got it!\n",
            "The random number is: 90\n"
          ]
        }
      ],
      "source": [
        "print(\"The aim of this game is to guess the randomly generate integer between 0 and 100 that the computer generates\")\n",
        "print(\"The computer has chosen its number\")\n",
        "import random\n",
        "random_number = random.randint(0, 100)\n",
        "user_integer = int(input(\"Please enter your integer guess (in digit form): \"))\n",
        "while random_number != user_integer:\n",
        "    if user_integer not in range(-1, 101):\n",
        "        print(\"Remember, the number will be an integer from 0 to 100, guess again\")\n",
        "        user_integer = int(input(\"Please enter your integer guess: \"))\n",
        "    if user_integer > random_number:\n",
        "        print(\"Too high\")\n",
        "        user_integer = int(input(\"Please enter your integer guess: \"))\n",
        "    if user_integer < random_number:\n",
        "        print(\"Too low\")\n",
        "        user_integer = int(input(\"Please enter your integer guess: \"))\n",
        "    if user_integer == random_number:\n",
        "        print(\"Congratulations, you got it!\")\n",
        "        break\n",
        "print(\"The random number is:\", random_number)"
      ]
    },
    {
      "cell_type": "markdown",
      "source": [
        "Above is my working code.  It will fail, however, if the input is not an integer, and I cannot figure out how to fix that.  Below is my attempt at fixing this issue that did not work because the code fails right when a non integer is inputted.  \n",
        "It took me an hour and a half to complete (or get this far in) this assignment."
      ],
      "metadata": {
        "id": "DL9qTqhIBOtl"
      }
    },
    {
      "cell_type": "code",
      "source": [
        "print(\"The aim of this game is to guess the randomly generate integer between 0 and 100 that the computer generates\")\n",
        "print(\"The computer has chosen its number\")\n",
        "import random\n",
        "random_number = random.randint(0, 100)\n",
        "user_integer = int(input(\"Please enter your integer guess (in digit form): \"))\n",
        "while type(user_integer) != int:\n",
        "    print(\"Only integers guesses in digit form are accepted\")\n",
        "    user_integer = int(input(\"Please enter your integer guess: \"))\n",
        "    if type(user_integer) == int:\n",
        "        break\n",
        "while random_number != user_integer:\n",
        "    if user_integer not in range(-1, 101):\n",
        "        print(\"Remember, the number will be an integer from 0 to 100, guess again\")\n",
        "        user_integer = int(input(\"Please enter your integer guess: \"))\n",
        "    if user_integer > random_number:\n",
        "        print(\"Too high\")\n",
        "        user_integer = int(input(\"Please enter your integer guess: \"))\n",
        "    if user_integer < random_number:\n",
        "        print(\"Too low\")\n",
        "        user_integer = int(input(\"Please enter your integer guess: \"))\n",
        "    if user_integer == random_number:\n",
        "        print(\"Congratulations, you got it!\")\n",
        "        break\n",
        "print(\"The random number is:\", random_number)"
      ],
      "metadata": {
        "colab": {
          "base_uri": "https://localhost:8080/",
          "height": 304
        },
        "id": "chiC-nMW_dq1",
        "outputId": "00191579-bcb5-42c1-8eeb-546913ac4d36"
      },
      "execution_count": 40,
      "outputs": [
        {
          "name": "stdout",
          "output_type": "stream",
          "text": [
            "The aim of this game is to guess the randomly generate integer between 0 and 100 that the computer generates\n",
            "The computer has chosen its number\n",
            "Please enter your integer guess (in digit form): hjk\n"
          ]
        },
        {
          "output_type": "error",
          "ename": "ValueError",
          "evalue": "invalid literal for int() with base 10: 'hjk'",
          "traceback": [
            "\u001b[0;31m---------------------------------------------------------------------------\u001b[0m",
            "\u001b[0;31mValueError\u001b[0m                                Traceback (most recent call last)",
            "\u001b[0;32m<ipython-input-40-74875da67812>\u001b[0m in \u001b[0;36m<cell line: 5>\u001b[0;34m()\u001b[0m\n\u001b[1;32m      3\u001b[0m \u001b[0;32mimport\u001b[0m \u001b[0mrandom\u001b[0m\u001b[0;34m\u001b[0m\u001b[0;34m\u001b[0m\u001b[0m\n\u001b[1;32m      4\u001b[0m \u001b[0mrandom_number\u001b[0m \u001b[0;34m=\u001b[0m \u001b[0mrandom\u001b[0m\u001b[0;34m.\u001b[0m\u001b[0mrandint\u001b[0m\u001b[0;34m(\u001b[0m\u001b[0;36m0\u001b[0m\u001b[0;34m,\u001b[0m \u001b[0;36m100\u001b[0m\u001b[0;34m)\u001b[0m\u001b[0;34m\u001b[0m\u001b[0;34m\u001b[0m\u001b[0m\n\u001b[0;32m----> 5\u001b[0;31m \u001b[0muser_integer\u001b[0m \u001b[0;34m=\u001b[0m \u001b[0mint\u001b[0m\u001b[0;34m(\u001b[0m\u001b[0minput\u001b[0m\u001b[0;34m(\u001b[0m\u001b[0;34m\"Please enter your integer guess (in digit form): \"\u001b[0m\u001b[0;34m)\u001b[0m\u001b[0;34m)\u001b[0m\u001b[0;34m\u001b[0m\u001b[0;34m\u001b[0m\u001b[0m\n\u001b[0m\u001b[1;32m      6\u001b[0m \u001b[0;32mwhile\u001b[0m \u001b[0mtype\u001b[0m\u001b[0;34m(\u001b[0m\u001b[0muser_integer\u001b[0m\u001b[0;34m)\u001b[0m \u001b[0;34m!=\u001b[0m \u001b[0mint\u001b[0m\u001b[0;34m:\u001b[0m\u001b[0;34m\u001b[0m\u001b[0;34m\u001b[0m\u001b[0m\n\u001b[1;32m      7\u001b[0m     \u001b[0mprint\u001b[0m\u001b[0;34m(\u001b[0m\u001b[0;34m\"Only integers guesses in digit form are accepted\"\u001b[0m\u001b[0;34m)\u001b[0m\u001b[0;34m\u001b[0m\u001b[0;34m\u001b[0m\u001b[0m\n",
            "\u001b[0;31mValueError\u001b[0m: invalid literal for int() with base 10: 'hjk'"
          ]
        }
      ]
    }
  ]
}